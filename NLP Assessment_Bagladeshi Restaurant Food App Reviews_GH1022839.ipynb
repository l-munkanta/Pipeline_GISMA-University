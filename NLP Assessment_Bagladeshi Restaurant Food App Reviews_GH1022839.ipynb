{
 "cells": [
  {
   "cell_type": "markdown",
   "id": "94dfa8c2",
   "metadata": {
    "id": "94dfa8c2"
   },
   "source": [
    "## Problem Statement"
   ]
  },
  {
   "cell_type": "markdown",
   "id": "1f883009",
   "metadata": {
    "id": "1f883009"
   },
   "source": [
    "The executed pipeline seeks to provide valuable insights for restaurant owners and managers. This will help customers and restaurants identify areas of improvements, identifying strengths and weaknesses, menu optimization, operational enhancements, and marketing insights.\n",
    "\n",
    "This pipeline is focused on a dataset \"Bagladeshi Restaurant Reviews\" that is a collection of customer reviews for restuarants in Bangladesh. The customer feedback was recorded on two major delivery apps in Baglandesh, namely: Foodpanda and Hungrynaki. This pipeline seeks to utilize the collected dataset to undertake a customer sentiment analysis that draws insights into satisfaction level of customers to enable service providers to improve the services of restaurants in Banglandesh.\n",
    "\n",
    "The dataset was collected from the Mendeley Data website where it is available as a csv file. The dataset contains 15,000 reviews from different customers.\n",
    "\n",
    "Dataset Source: Mendeley Data (2023), Bangladeshi Food Delivery App Restaurant Reviews, available at: https://data.mendeley.com/datasets/wc87kpk6ks/2"
   ]
  },
  {
   "cell_type": "markdown",
   "id": "d7ed300a",
   "metadata": {
    "id": "d7ed300a"
   },
   "source": [
    "## Importing Relevant Libraries"
   ]
  },
  {
   "cell_type": "markdown",
   "id": "2C-atrXzB2bT",
   "metadata": {
    "id": "2C-atrXzB2bT"
   },
   "source": [
    "All required libraries were uploaded to enable the application of different machine learning and python insights. This pipeline dataset was executed using the pandas library."
   ]
  },
  {
   "cell_type": "code",
   "execution_count": 36,
   "id": "9fd10e0e",
   "metadata": {
    "colab": {
     "base_uri": "https://localhost:8080/"
    },
    "executionInfo": {
     "elapsed": 11421,
     "status": "ok",
     "timestamp": 1702838661122,
     "user": {
      "displayName": "Lauraine Munkanta",
      "userId": "06811698983110611137"
     },
     "user_tz": -60
    },
    "id": "9fd10e0e",
    "outputId": "dac2c928-14a2-4501-b869-06de23d7c0ea"
   },
   "outputs": [
    {
     "name": "stdout",
     "output_type": "stream",
     "text": [
      "Requirement already satisfied: imbalanced-learn in c:\\users\\hp\\anaconda3\\lib\\site-packages (0.11.0)\n",
      "Requirement already satisfied: numpy>=1.17.3 in c:\\users\\hp\\anaconda3\\lib\\site-packages (from imbalanced-learn) (1.21.5)\n",
      "Requirement already satisfied: threadpoolctl>=2.0.0 in c:\\users\\hp\\anaconda3\\lib\\site-packages (from imbalanced-learn) (2.2.0)\n",
      "Requirement already satisfied: scipy>=1.5.0 in c:\\users\\hp\\anaconda3\\lib\\site-packages (from imbalanced-learn) (1.9.1)\n",
      "Requirement already satisfied: scikit-learn>=1.0.2 in c:\\users\\hp\\anaconda3\\lib\\site-packages (from imbalanced-learn) (1.0.2)\n",
      "Requirement already satisfied: joblib>=1.1.1 in c:\\users\\hp\\anaconda3\\lib\\site-packages (from imbalanced-learn) (1.3.2)\n"
     ]
    }
   ],
   "source": [
    "!pip install -U imbalanced-learn"
   ]
  },
  {
   "cell_type": "code",
   "execution_count": 75,
   "id": "908afed1",
   "metadata": {
    "colab": {
     "base_uri": "https://localhost:8080/"
    },
    "executionInfo": {
     "elapsed": 317,
     "status": "ok",
     "timestamp": 1702839726134,
     "user": {
      "displayName": "Lauraine Munkanta",
      "userId": "06811698983110611137"
     },
     "user_tz": -60
    },
    "id": "908afed1",
    "outputId": "2e6a46e7-13a8-43b2-c1e2-ee098d06ba9d"
   },
   "outputs": [
    {
     "name": "stderr",
     "output_type": "stream",
     "text": [
      "[nltk_data] Downloading package stopwords to\n",
      "[nltk_data]     C:\\Users\\HP\\AppData\\Roaming\\nltk_data...\n",
      "[nltk_data]   Package stopwords is already up-to-date!\n",
      "[nltk_data] Downloading package wordnet to\n",
      "[nltk_data]     C:\\Users\\HP\\AppData\\Roaming\\nltk_data...\n",
      "[nltk_data]   Package wordnet is already up-to-date!\n",
      "[nltk_data] Downloading package omw-1.4 to\n",
      "[nltk_data]     C:\\Users\\HP\\AppData\\Roaming\\nltk_data...\n",
      "[nltk_data]   Package omw-1.4 is already up-to-date!\n",
      "[nltk_data] Downloading package punkt to\n",
      "[nltk_data]     C:\\Users\\HP\\AppData\\Roaming\\nltk_data...\n",
      "[nltk_data]   Package punkt is already up-to-date!\n"
     ]
    }
   ],
   "source": [
    "import pandas as pd\n",
    "import numpy as np\n",
    "import matplotlib.pyplot as plt\n",
    "%matplotlib inline\n",
    "import seaborn as sns\n",
    "plt.style.use('ggplot')\n",
    "\n",
    "import re\n",
    "import nltk\n",
    "from nltk.corpus import stopwords\n",
    "from nltk.stem import WordNetLemmatizer\n",
    "from wordcloud import WordCloud\n",
    "\n",
    "nltk.download('stopwords')\n",
    "nltk.download('wordnet')\n",
    "nltk.download('omw-1.4')\n",
    "nltk.download('punkt')\n",
    "tokenizer = nltk.data.load(\"tokenizers/punkt/english.pickle\")\n",
    "\n",
    "from imblearn.over_sampling import SMOTE\n",
    "from imblearn.over_sampling import ADASYN\n",
    "from imblearn.metrics import geometric_mean_score\n",
    "from sklearn.metrics import accuracy_score\n",
    "from sklearn.metrics import f1_score\n",
    "from sklearn.metrics import classification_report\n",
    "from sklearn.feature_extraction.text import ENGLISH_STOP_WORDS\n",
    "from sklearn.feature_extraction.text import CountVectorizer\n",
    "from sklearn.feature_extraction.text import TfidfVectorizer\n",
    "from sklearn.model_selection import train_test_split\n",
    "from sklearn.linear_model import LogisticRegression\n",
    "from sklearn.tree import DecisionTreeClassifier\n",
    "from sklearn.ensemble import RandomForestClassifier\n",
    "from sklearn.naive_bayes import GaussianNB\n",
    "from sklearn.ensemble import GradientBoostingClassifier\n",
    "from sklearn.neighbors import KNeighborsClassifier\n",
    "from sklearn.discriminant_analysis import LinearDiscriminantAnalysis\n",
    "from sklearn.discriminant_analysis import QuadraticDiscriminantAnalysis\n",
    "from sklearn.model_selection import cross_val_score, cross_validate\n",
    "from sklearn.model_selection import StratifiedKFold\n",
    "from sklearn.model_selection import GridSearchCV\n",
    "from sklearn.ensemble import GradientBoostingClassifier\n",
    "from sklearn.metrics import confusion_matrix, ConfusionMatrixDisplay"
   ]
  },
  {
   "cell_type": "code",
   "execution_count": 38,
   "id": "0fa4b291",
   "metadata": {
    "colab": {
     "base_uri": "https://localhost:8080/",
     "height": 206
    },
    "executionInfo": {
     "elapsed": 76,
     "status": "ok",
     "timestamp": 1702838665726,
     "user": {
      "displayName": "Lauraine Munkanta",
      "userId": "06811698983110611137"
     },
     "user_tz": -60
    },
    "id": "0fa4b291",
    "outputId": "19f625ea-afbc-4438-8171-1f30c76308c9"
   },
   "outputs": [
    {
     "data": {
      "text/html": [
       "<div>\n",
       "<style scoped>\n",
       "    .dataframe tbody tr th:only-of-type {\n",
       "        vertical-align: middle;\n",
       "    }\n",
       "\n",
       "    .dataframe tbody tr th {\n",
       "        vertical-align: top;\n",
       "    }\n",
       "\n",
       "    .dataframe thead th {\n",
       "        text-align: right;\n",
       "    }\n",
       "</style>\n",
       "<table border=\"1\" class=\"dataframe\">\n",
       "  <thead>\n",
       "    <tr style=\"text-align: right;\">\n",
       "      <th></th>\n",
       "      <th>Unnamed: 0</th>\n",
       "      <th>createdAt</th>\n",
       "      <th>text</th>\n",
       "      <th>reviewerName</th>\n",
       "      <th>ratingvalue</th>\n",
       "    </tr>\n",
       "  </thead>\n",
       "  <tbody>\n",
       "    <tr>\n",
       "      <th>0</th>\n",
       "      <td>0</td>\n",
       "      <td>2022-10-26T12:23:22Z</td>\n",
       "      <td>To tell you the truth, they sell fried chicken...</td>\n",
       "      <td>Fariha</td>\n",
       "      <td>1</td>\n",
       "    </tr>\n",
       "    <tr>\n",
       "      <th>1</th>\n",
       "      <td>1</td>\n",
       "      <td>2022-10-24T11:36:45Z</td>\n",
       "      <td>Crispy was so bad</td>\n",
       "      <td>Fariha</td>\n",
       "      <td>3</td>\n",
       "    </tr>\n",
       "    <tr>\n",
       "      <th>2</th>\n",
       "      <td>2</td>\n",
       "      <td>2022-10-20T17:32:09Z</td>\n",
       "      <td>The restaurant provided leas items which I ord...</td>\n",
       "      <td>Juliet</td>\n",
       "      <td>1</td>\n",
       "    </tr>\n",
       "    <tr>\n",
       "      <th>3</th>\n",
       "      <td>3</td>\n",
       "      <td>2022-10-19T09:13:02Z</td>\n",
       "      <td>already send you a picture about my meal. tota...</td>\n",
       "      <td>Shokhina</td>\n",
       "      <td>1</td>\n",
       "    </tr>\n",
       "    <tr>\n",
       "      <th>4</th>\n",
       "      <td>4</td>\n",
       "      <td>2022-10-18T12:53:42Z</td>\n",
       "      <td>Excellent as before</td>\n",
       "      <td>Tabassum</td>\n",
       "      <td>5</td>\n",
       "    </tr>\n",
       "  </tbody>\n",
       "</table>\n",
       "</div>"
      ],
      "text/plain": [
       "   Unnamed: 0             createdAt  \\\n",
       "0           0  2022-10-26T12:23:22Z   \n",
       "1           1  2022-10-24T11:36:45Z   \n",
       "2           2  2022-10-20T17:32:09Z   \n",
       "3           3  2022-10-19T09:13:02Z   \n",
       "4           4  2022-10-18T12:53:42Z   \n",
       "\n",
       "                                                text reviewerName  ratingvalue  \n",
       "0  To tell you the truth, they sell fried chicken...       Fariha            1  \n",
       "1                                  Crispy was so bad       Fariha            3  \n",
       "2  The restaurant provided leas items which I ord...       Juliet            1  \n",
       "3  already send you a picture about my meal. tota...     Shokhina            1  \n",
       "4                                Excellent as before     Tabassum            5  "
      ]
     },
     "execution_count": 38,
     "metadata": {},
     "output_type": "execute_result"
    }
   ],
   "source": [
    "#Reads the dataset\n",
    "df = pd.read_csv(r\"C:\\Users\\HP\\Bangladesi Food Delivery App Dataset.csv\")\n",
    "df.head()"
   ]
  },
  {
   "cell_type": "code",
   "execution_count": 39,
   "id": "ede7c628",
   "metadata": {
    "colab": {
     "base_uri": "https://localhost:8080/"
    },
    "executionInfo": {
     "elapsed": 70,
     "status": "ok",
     "timestamp": 1702838665726,
     "user": {
      "displayName": "Lauraine Munkanta",
      "userId": "06811698983110611137"
     },
     "user_tz": -60
    },
    "id": "ede7c628",
    "outputId": "ba6294dd-ef47-4ff5-80b7-b0fb35f67a04"
   },
   "outputs": [
    {
     "name": "stdout",
     "output_type": "stream",
     "text": [
      "(15017, 5)\n"
     ]
    }
   ],
   "source": [
    "print(df.shape)\n",
    "\n",
    "#The code above prints the size of datapoints (15,017) and labels(5) in this dataset."
   ]
  },
  {
   "cell_type": "markdown",
   "id": "317eab32",
   "metadata": {
    "id": "317eab32"
   },
   "source": [
    "## Data Exploration"
   ]
  },
  {
   "cell_type": "markdown",
   "id": "8f590133",
   "metadata": {
    "id": "8f590133"
   },
   "source": [
    "Data exploration is conducted to inform the pipeline on what type of data preprocessing concepts are required to clean the dataset before building the model.\n",
    "Data exploration is done to check for missing values and to see whether the dataset is balanced or not. After running the code below, the dataset illustrates that it is highly imbalanced indicating the need to balance the dataset before training using oversampling. The below code also illustrates that there is no missing value or duplicate values in the dataset."
   ]
  },
  {
   "cell_type": "code",
   "execution_count": 40,
   "id": "20191683",
   "metadata": {
    "colab": {
     "base_uri": "https://localhost:8080/"
    },
    "executionInfo": {
     "elapsed": 66,
     "status": "ok",
     "timestamp": 1702838665727,
     "user": {
      "displayName": "Lauraine Munkanta",
      "userId": "06811698983110611137"
     },
     "user_tz": -60
    },
    "id": "20191683",
    "outputId": "a726680e-0394-4846-aa1c-d3fc424bb1ad"
   },
   "outputs": [
    {
     "data": {
      "text/plain": [
       "Unnamed: 0      0\n",
       "createdAt       0\n",
       "text            0\n",
       "reviewerName    0\n",
       "ratingvalue     0\n",
       "dtype: int64"
      ]
     },
     "execution_count": 40,
     "metadata": {},
     "output_type": "execute_result"
    }
   ],
   "source": [
    "#Checks for any missing values in the dataset\n",
    "df.isnull().sum()"
   ]
  },
  {
   "cell_type": "code",
   "execution_count": 41,
   "id": "fd465ba1",
   "metadata": {
    "colab": {
     "base_uri": "https://localhost:8080/"
    },
    "executionInfo": {
     "elapsed": 60,
     "status": "ok",
     "timestamp": 1702838665728,
     "user": {
      "displayName": "Lauraine Munkanta",
      "userId": "06811698983110611137"
     },
     "user_tz": -60
    },
    "id": "fd465ba1",
    "outputId": "caedb86a-0730-45de-e506-5185d5e9012f"
   },
   "outputs": [
    {
     "name": "stdout",
     "output_type": "stream",
     "text": [
      "<class 'pandas.core.frame.DataFrame'>\n",
      "RangeIndex: 15017 entries, 0 to 15016\n",
      "Data columns (total 5 columns):\n",
      " #   Column        Non-Null Count  Dtype \n",
      "---  ------        --------------  ----- \n",
      " 0   Unnamed: 0    15017 non-null  int64 \n",
      " 1   createdAt     15017 non-null  object\n",
      " 2   text          15017 non-null  object\n",
      " 3   reviewerName  15017 non-null  object\n",
      " 4   ratingvalue   15017 non-null  int64 \n",
      "dtypes: int64(2), object(3)\n",
      "memory usage: 586.7+ KB\n"
     ]
    }
   ],
   "source": [
    "#Provides a summary of information on the features in the column labels that is non null total count, name of column labels and datatype\n",
    "df.info()"
   ]
  },
  {
   "cell_type": "code",
   "execution_count": 42,
   "id": "2d902716",
   "metadata": {
    "colab": {
     "base_uri": "https://localhost:8080/"
    },
    "executionInfo": {
     "elapsed": 55,
     "status": "ok",
     "timestamp": 1702838665729,
     "user": {
      "displayName": "Lauraine Munkanta",
      "userId": "06811698983110611137"
     },
     "user_tz": -60
    },
    "id": "2d902716",
    "outputId": "1a44b22a-e320-4ebd-bac5-9e4346a041c1"
   },
   "outputs": [
    {
     "data": {
      "text/plain": [
       "1    5436\n",
       "5    4199\n",
       "4    1979\n",
       "3    1927\n",
       "2    1476\n",
       "Name: ratingvalue, dtype: int64"
      ]
     },
     "execution_count": 42,
     "metadata": {},
     "output_type": "execute_result"
    }
   ],
   "source": [
    "#Reviews the total value count for each star between 1 to 5 in the 'ratingvalue' column\n",
    "df['ratingvalue'].value_counts()"
   ]
  },
  {
   "cell_type": "code",
   "execution_count": 43,
   "id": "54e89aef",
   "metadata": {
    "colab": {
     "base_uri": "https://localhost:8080/",
     "height": 487
    },
    "executionInfo": {
     "elapsed": 55,
     "status": "ok",
     "timestamp": 1702838665732,
     "user": {
      "displayName": "Lauraine Munkanta",
      "userId": "06811698983110611137"
     },
     "user_tz": -60
    },
    "id": "54e89aef",
    "outputId": "6b088986-4508-49c7-a83c-9dfc25ddbf9f"
   },
   "outputs": [
    {
     "data": {
      "image/png": "[encoded data removed]",
      "text/plain": [
       "<Figure size 500x500 with 1 Axes>"
      ]
     },
     "metadata": {},
     "output_type": "display_data"
    }
   ],
   "source": [
    "#Illustrates that the dataset is imbalanced when the target label is reviewed\n",
    "axis = df['ratingvalue'].value_counts().sort_index()  \\\n",
    ".plot(kind='bar', title='Count of Rating by Stars',color='blue', figsize=(5,5))\n",
    "\n",
    "axis.set_xlabel('Rating Stars')\n",
    "plt.show()"
   ]
  },
  {
   "cell_type": "code",
   "execution_count": 44,
   "id": "d376df75",
   "metadata": {
    "colab": {
     "base_uri": "https://localhost:8080/"
    },
    "executionInfo": {
     "elapsed": 54,
     "status": "ok",
     "timestamp": 1702838665734,
     "user": {
      "displayName": "Lauraine Munkanta",
      "userId": "06811698983110611137"
     },
     "user_tz": -60
    },
    "id": "d376df75",
    "outputId": "0eec07e1-6bce-4fe9-e2bb-396f3760c5ef"
   },
   "outputs": [
    {
     "data": {
      "text/plain": [
       "0        False\n",
       "1        False\n",
       "2        False\n",
       "3        False\n",
       "4        False\n",
       "         ...  \n",
       "15012    False\n",
       "15013    False\n",
       "15014    False\n",
       "15015    False\n",
       "15016    False\n",
       "Name: text, Length: 15017, dtype: bool"
      ]
     },
     "execution_count": 44,
     "metadata": {},
     "output_type": "execute_result"
    }
   ],
   "source": [
    "#Checks for duplicate values in the text column\n",
    "#Below code indicates that there are no duplicate values in the dataset\n",
    "duplicate_values = df['text'].duplicated()\n",
    "duplicate_values"
   ]
  },
  {
   "cell_type": "markdown",
   "id": "8e22607d",
   "metadata": {
    "id": "8e22607d"
   },
   "source": [
    "## Data Preprocessing  "
   ]
  },
  {
   "cell_type": "markdown",
   "id": "f_XFBICVEB7Z",
   "metadata": {
    "id": "f_XFBICVEB7Z"
   },
   "source": [
    "Data preprocessing seeks to clean the dataset and prepare it for feature engineering. Firstly, columns that are not needed were dropped from the dataset then stopwords were collected from NLTK and Sklearn libraries. The text column with the reviews is then cleaned by changing text to lowercase, removing all spaces, removing punctuations, tokenizing all documents in the corpus and lemmatizing all tokenized documents. After the text cleaning, a new column with clean text called \"clean_reviews\" is created. Lastly, data visualization using wordcloud is undertaken to illustrate the most frequent words in the dataset."
   ]
  },
  {
   "cell_type": "code",
   "execution_count": 45,
   "id": "1b9eaedb",
   "metadata": {
    "colab": {
     "base_uri": "https://localhost:8080/",
     "height": 206
    },
    "executionInfo": {
     "elapsed": 47,
     "status": "ok",
     "timestamp": 1702838665736,
     "user": {
      "displayName": "Lauraine Munkanta",
      "userId": "06811698983110611137"
     },
     "user_tz": -60
    },
    "id": "1b9eaedb",
    "outputId": "8c7d70ad-ebb3-48b5-e112-2cc77a35b56b"
   },
   "outputs": [
    {
     "data": {
      "text/html": [
       "<div>\n",
       "<style scoped>\n",
       "    .dataframe tbody tr th:only-of-type {\n",
       "        vertical-align: middle;\n",
       "    }\n",
       "\n",
       "    .dataframe tbody tr th {\n",
       "        vertical-align: top;\n",
       "    }\n",
       "\n",
       "    .dataframe thead th {\n",
       "        text-align: right;\n",
       "    }\n",
       "</style>\n",
       "<table border=\"1\" class=\"dataframe\">\n",
       "  <thead>\n",
       "    <tr style=\"text-align: right;\">\n",
       "      <th></th>\n",
       "      <th>text</th>\n",
       "      <th>ratingvalue</th>\n",
       "    </tr>\n",
       "  </thead>\n",
       "  <tbody>\n",
       "    <tr>\n",
       "      <th>0</th>\n",
       "      <td>To tell you the truth, they sell fried chicken...</td>\n",
       "      <td>1</td>\n",
       "    </tr>\n",
       "    <tr>\n",
       "      <th>1</th>\n",
       "      <td>Crispy was so bad</td>\n",
       "      <td>3</td>\n",
       "    </tr>\n",
       "    <tr>\n",
       "      <th>2</th>\n",
       "      <td>The restaurant provided leas items which I ord...</td>\n",
       "      <td>1</td>\n",
       "    </tr>\n",
       "    <tr>\n",
       "      <th>3</th>\n",
       "      <td>already send you a picture about my meal. tota...</td>\n",
       "      <td>1</td>\n",
       "    </tr>\n",
       "    <tr>\n",
       "      <th>4</th>\n",
       "      <td>Excellent as before</td>\n",
       "      <td>5</td>\n",
       "    </tr>\n",
       "  </tbody>\n",
       "</table>\n",
       "</div>"
      ],
      "text/plain": [
       "                                                text  ratingvalue\n",
       "0  To tell you the truth, they sell fried chicken...            1\n",
       "1                                  Crispy was so bad            3\n",
       "2  The restaurant provided leas items which I ord...            1\n",
       "3  already send you a picture about my meal. tota...            1\n",
       "4                                Excellent as before            5"
      ]
     },
     "execution_count": 45,
     "metadata": {},
     "output_type": "execute_result"
    }
   ],
   "source": [
    "#Drop the id column which is named as 'Unnamed: 0' in this dataset.\n",
    "df.drop(['Unnamed: 0', 'reviewerName','createdAt'], axis = 1, inplace=True)\n",
    "df.head()"
   ]
  },
  {
   "cell_type": "code",
   "execution_count": 46,
   "id": "415c2173",
   "metadata": {
    "colab": {
     "base_uri": "https://localhost:8080/",
     "height": 35
    },
    "executionInfo": {
     "elapsed": 46,
     "status": "ok",
     "timestamp": 1702838665737,
     "user": {
      "displayName": "Lauraine Munkanta",
      "userId": "06811698983110611137"
     },
     "user_tz": -60
    },
    "id": "415c2173",
    "outputId": "2925de5c-c9b8-4383-cef1-153d56f1e9db"
   },
   "outputs": [
    {
     "data": {
      "text/plain": [
       "'Very oily, hardly any flavours.'"
      ]
     },
     "execution_count": 46,
     "metadata": {},
     "output_type": "execute_result"
    }
   ],
   "source": [
    "#Below code seeks to read the first review in the text column\n",
    "df['text'].values[4000]"
   ]
  },
  {
   "cell_type": "markdown",
   "id": "8789aac3",
   "metadata": {
    "id": "8789aac3"
   },
   "source": [
    "**Defining Stopword - NLTK and SKLEARN Libraries**"
   ]
  },
  {
   "cell_type": "code",
   "execution_count": 47,
   "id": "46c4af48",
   "metadata": {
    "colab": {
     "base_uri": "https://localhost:8080/"
    },
    "executionInfo": {
     "elapsed": 1061,
     "status": "ok",
     "timestamp": 1702838666753,
     "user": {
      "displayName": "Lauraine Munkanta",
      "userId": "06811698983110611137"
     },
     "user_tz": -60
    },
    "id": "46c4af48",
    "outputId": "4d830374-71f5-4e8f-ce2e-83284cdc27f0"
   },
   "outputs": [
    {
     "data": {
      "text/plain": [
       "378"
      ]
     },
     "execution_count": 47,
     "metadata": {},
     "output_type": "execute_result"
    }
   ],
   "source": [
    "#NLTK stopwords\n",
    "nltk_stopwords = set(stopwords.words('english'))\n",
    "#SKLEARN stopwords\n",
    "sklearn_stopwords = set(ENGLISH_STOP_WORDS)\n",
    "\n",
    "#Combine stopwords from nltk library and sklearn library\n",
    "combined_stopwords = nltk_stopwords.union(sklearn_stopwords)\n",
    "len(combined_stopwords)"
   ]
  },
  {
   "cell_type": "markdown",
   "id": "bded7548",
   "metadata": {
    "id": "bded7548"
   },
   "source": [
    "**Cleaned the Text**\n",
    "\n",
    "* Changed all text to lower case\n",
    "* Removed all spaces from the text\n",
    "* Removed all punctuations from the text\n",
    "* Tokenized each word and removed all stopwords\n",
    "* Lemmatized all the tokenized text in the dataset"
   ]
  },
  {
   "cell_type": "code",
   "execution_count": 48,
   "id": "2062d68c",
   "metadata": {
    "executionInfo": {
     "elapsed": 3590,
     "status": "ok",
     "timestamp": 1702838670336,
     "user": {
      "displayName": "Lauraine Munkanta",
      "userId": "06811698983110611137"
     },
     "user_tz": -60
    },
    "id": "2062d68c"
   },
   "outputs": [],
   "source": [
    "def clean_text(df, text, clean_reviews):\n",
    "\n",
    "    #Changes to lowercase and remove space on either side\n",
    "    df[clean_reviews] = df[text].apply(lambda x: x.lower().strip())\n",
    "\n",
    "    #Removes all extra spaces\n",
    "    df[clean_reviews] = df[clean_reviews].apply(lambda x: re.sub(' +', ' ', x))\n",
    "\n",
    "    #Removes all punctuations\n",
    "    df[clean_reviews] = df[clean_reviews].apply(lambda x: re.sub('[^a-zA-Z]', ' ', x))\n",
    "\n",
    "    #Tokenizes sentences in the text column\n",
    "    df['tokenized_text'] = df[clean_reviews].apply(lambda x: nltk.tokenize.word_tokenize(x))\n",
    "\n",
    "    #The WordNet lemmatizer helps with structuring the semantic relationship between words\n",
    "    lemmatizer = WordNetLemmatizer()\n",
    "\n",
    "    #Lemmatizes each word\n",
    "    df['tokenized_text'] = df['tokenized_text'].apply(lambda tokens: [lemmatizer.lemmatize(word) for word in tokens])\n",
    "\n",
    "    #Removes all stopwords using the earlier combined stopwords\n",
    "    df['clean_reviews'] = df['tokenized_text'].apply(lambda tokens: ' '.join([word for word in tokens if word not in combined_stopwords]))\n",
    "\n",
    "    #Drops the intermediate tokenized_text column if you don't need it anymore\n",
    "    df = df.drop(columns=['tokenized_text'])\n",
    "\n",
    "    return df\n",
    "\n",
    "#Calling the function\n",
    "df = clean_text(df, 'text', 'clean_reviews')\n"
   ]
  },
  {
   "cell_type": "code",
   "execution_count": 49,
   "id": "f5d37af0",
   "metadata": {
    "colab": {
     "base_uri": "https://localhost:8080/"
    },
    "executionInfo": {
     "elapsed": 35,
     "status": "ok",
     "timestamp": 1702838670337,
     "user": {
      "displayName": "Lauraine Munkanta",
      "userId": "06811698983110611137"
     },
     "user_tz": -60
    },
    "id": "f5d37af0",
    "outputId": "308d162b-f69f-445a-f141-b3c0c1bfebbc"
   },
   "outputs": [
    {
     "name": "stdout",
     "output_type": "stream",
     "text": [
      "To tell you the truth, they sell fried chicken now. Each Chicken Crispy is black inside and smells rotten, not mouth-watering. Please don't ban people's money.\n"
     ]
    }
   ],
   "source": [
    "#Prints out the first sentence in the uncleaned \"text\" column\n",
    "print(df['text'].values[0])"
   ]
  },
  {
   "cell_type": "code",
   "execution_count": 50,
   "id": "ca133064",
   "metadata": {
    "colab": {
     "base_uri": "https://localhost:8080/"
    },
    "executionInfo": {
     "elapsed": 30,
     "status": "ok",
     "timestamp": 1702838670338,
     "user": {
      "displayName": "Lauraine Munkanta",
      "userId": "06811698983110611137"
     },
     "user_tz": -60
    },
    "id": "ca133064",
    "outputId": "41681f01-ed0f-43eb-cfd3-0b3d08507ce5"
   },
   "outputs": [
    {
     "name": "stdout",
     "output_type": "stream",
     "text": [
      "tell truth sell fried chicken chicken crispy black inside smell rotten mouth watering ban people money\n"
     ]
    }
   ],
   "source": [
    "#Prints out the first sentence in the cleaned \"clean_reviews\" column\n",
    "print(df['clean_reviews'].values[0])"
   ]
  },
  {
   "cell_type": "code",
   "execution_count": 51,
   "id": "fe4ebc07",
   "metadata": {
    "colab": {
     "base_uri": "https://localhost:8080/",
     "height": 206
    },
    "executionInfo": {
     "elapsed": 27,
     "status": "ok",
     "timestamp": 1702838670339,
     "user": {
      "displayName": "Lauraine Munkanta",
      "userId": "06811698983110611137"
     },
     "user_tz": -60
    },
    "id": "fe4ebc07",
    "outputId": "75ea4fda-3a97-49b8-cf7f-06b7a836e406"
   },
   "outputs": [
    {
     "data": {
      "text/html": [
       "<div>\n",
       "<style scoped>\n",
       "    .dataframe tbody tr th:only-of-type {\n",
       "        vertical-align: middle;\n",
       "    }\n",
       "\n",
       "    .dataframe tbody tr th {\n",
       "        vertical-align: top;\n",
       "    }\n",
       "\n",
       "    .dataframe thead th {\n",
       "        text-align: right;\n",
       "    }\n",
       "</style>\n",
       "<table border=\"1\" class=\"dataframe\">\n",
       "  <thead>\n",
       "    <tr style=\"text-align: right;\">\n",
       "      <th></th>\n",
       "      <th>text</th>\n",
       "      <th>ratingvalue</th>\n",
       "      <th>clean_reviews</th>\n",
       "    </tr>\n",
       "  </thead>\n",
       "  <tbody>\n",
       "    <tr>\n",
       "      <th>0</th>\n",
       "      <td>To tell you the truth, they sell fried chicken...</td>\n",
       "      <td>1</td>\n",
       "      <td>tell truth sell fried chicken chicken crispy b...</td>\n",
       "    </tr>\n",
       "    <tr>\n",
       "      <th>1</th>\n",
       "      <td>Crispy was so bad</td>\n",
       "      <td>3</td>\n",
       "      <td>crispy wa bad</td>\n",
       "    </tr>\n",
       "    <tr>\n",
       "      <th>2</th>\n",
       "      <td>The restaurant provided leas items which I ord...</td>\n",
       "      <td>1</td>\n",
       "      <td>restaurant provided lea item ordered</td>\n",
       "    </tr>\n",
       "    <tr>\n",
       "      <th>3</th>\n",
       "      <td>already send you a picture about my meal. tota...</td>\n",
       "      <td>1</td>\n",
       "      <td>send picture meal totally mass food coleslaw d...</td>\n",
       "    </tr>\n",
       "    <tr>\n",
       "      <th>4</th>\n",
       "      <td>Excellent as before</td>\n",
       "      <td>5</td>\n",
       "      <td>excellent</td>\n",
       "    </tr>\n",
       "  </tbody>\n",
       "</table>\n",
       "</div>"
      ],
      "text/plain": [
       "                                                text  ratingvalue  \\\n",
       "0  To tell you the truth, they sell fried chicken...            1   \n",
       "1                                  Crispy was so bad            3   \n",
       "2  The restaurant provided leas items which I ord...            1   \n",
       "3  already send you a picture about my meal. tota...            1   \n",
       "4                                Excellent as before            5   \n",
       "\n",
       "                                       clean_reviews  \n",
       "0  tell truth sell fried chicken chicken crispy b...  \n",
       "1                                      crispy wa bad  \n",
       "2               restaurant provided lea item ordered  \n",
       "3  send picture meal totally mass food coleslaw d...  \n",
       "4                                          excellent  "
      ]
     },
     "execution_count": 51,
     "metadata": {},
     "output_type": "execute_result"
    }
   ],
   "source": [
    "df.head()"
   ]
  },
  {
   "cell_type": "markdown",
   "id": "210bce53",
   "metadata": {
    "id": "210bce53"
   },
   "source": [
    "**Data Visualization of Word Frequecy**"
   ]
  },
  {
   "cell_type": "code",
   "execution_count": 52,
   "id": "c1448ffb",
   "metadata": {
    "colab": {
     "base_uri": "https://localhost:8080/"
    },
    "executionInfo": {
     "elapsed": 26,
     "status": "ok",
     "timestamp": 1702838670340,
     "user": {
      "displayName": "Lauraine Munkanta",
      "userId": "06811698983110611137"
     },
     "user_tz": -60
    },
    "id": "c1448ffb",
    "outputId": "cc61036c-0365-45d7-9b27-ad7bcd1f7162"
   },
   "outputs": [
    {
     "name": "stdout",
     "output_type": "stream",
     "text": [
      "['tell', 'truth', 'sell', 'fried', 'chicken', 'chicken', 'crispy', 'black', 'inside', 'smell', 'rotten', 'mouth', 'watering', 'ban', 'people', 'money', 'crispy', 'wa', 'bad', 'restaurant', 'provided', 'lea', 'item', 'ordered', 'send', 'picture', 'meal', 'totally', 'mass', 'food', 'coleslaw', 'dropped', 'al', 'packet', 'really', 'disappointed', 'food', 'packaging', 'wa', 'poor', 'delivery', 'man', 'mass', 'excellent', 'forgot', 'include', 'beverage', 'included', 'combo', 'meal']\n"
     ]
    }
   ],
   "source": [
    "#Prints out the top 50 most frequent words in the corpus\n",
    "\n",
    "all_words = []\n",
    "for word in df['clean_reviews']:\n",
    "    all_words.extend(word.split())   #Splits words at spaces, tabs, whitespaces\n",
    "print(all_words[:50])"
   ]
  },
  {
   "cell_type": "code",
   "execution_count": 53,
   "id": "42713ef7",
   "metadata": {
    "colab": {
     "base_uri": "https://localhost:8080/"
    },
    "executionInfo": {
     "elapsed": 21,
     "status": "ok",
     "timestamp": 1702838670340,
     "user": {
      "displayName": "Lauraine Munkanta",
      "userId": "06811698983110611137"
     },
     "user_tz": -60
    },
    "id": "42713ef7",
    "outputId": "cdd7f1de-fc50-4ec5-af74-6a4ec4caf6ad"
   },
   "outputs": [
    {
     "data": {
      "text/plain": [
       "96603"
      ]
     },
     "execution_count": 53,
     "metadata": {},
     "output_type": "execute_result"
    }
   ],
   "source": [
    "#Prints out the number of words in the dataset after cleaning\n",
    "len(all_words)"
   ]
  },
  {
   "cell_type": "code",
   "execution_count": 54,
   "id": "715fd179",
   "metadata": {
    "colab": {
     "base_uri": "https://localhost:8080/",
     "height": 308
    },
    "executionInfo": {
     "elapsed": 848,
     "status": "ok",
     "timestamp": 1702838671172,
     "user": {
      "displayName": "Lauraine Munkanta",
      "userId": "06811698983110611137"
     },
     "user_tz": -60
    },
    "id": "715fd179",
    "outputId": "59e5bd32-bd96-44d6-8ea6-5a04632fdb7f"
   },
   "outputs": [
    {
     "data": {
      "image/png": "[encoded data removed]",
      "text/plain": [
       "<Figure size 640x480 with 1 Axes>"
      ]
     },
     "metadata": {},
     "output_type": "display_data"
    }
   ],
   "source": [
    "#Frequency distribution illustrated using the generated WordCloud from Matplotlib\n",
    "\n",
    "all_text = ' '.join(all_words) #Combine all words into one string\n",
    "\n",
    "wordcloud = WordCloud(collocations= False,max_words=30, background_color = 'white').generate(all_text)\n",
    "plt.imshow(wordcloud, interpolation='bilinear')\n",
    "plt.title('Top 30 most common words')\n",
    "plt.axis('off')\n",
    "plt.show()"
   ]
  },
  {
   "cell_type": "markdown",
   "id": "405ac1bd",
   "metadata": {
    "id": "405ac1bd"
   },
   "source": [
    "## Text Preprocessing (Feature Engineering)"
   ]
  },
  {
   "cell_type": "markdown",
   "id": "0143c9be",
   "metadata": {
    "id": "0143c9be"
   },
   "source": [
    "The text preprocessing seeks to sparse and convert text into tokens. The Count Vectorizer was used initially used in the code but later on it was removed from the code as TF IDF performs better and does not require the count vectorizer. TF IDF was used to turn text into vectors that can be fed into machine learning models.\n",
    "\n",
    "TF-IDF helps emphasize the importance of certain words in a corpus by focusing on both the occurrence of a word in a document (term frequency) and also the importance of the word in the entire corpus (inverse document frequency). The TF-IDF code highlights that the words that are common across many documents receive lower weights, while words that are specific to a document receive higher weights. A line of code was also run to check the sparsity of the non zero features which was 0.3% indicating that the dataset has a high sparse representation.\n"
   ]
  },
  {
   "cell_type": "markdown",
   "id": "7cb69b45",
   "metadata": {
    "id": "7cb69b45"
   },
   "source": [
    "**Bag of Words Model:**\n",
    "\n",
    "* Term Frequency - Inverse Document Frequency(TF-IDF)"
   ]
  },
  {
   "cell_type": "markdown",
   "id": "cf8dd9c3",
   "metadata": {
    "id": "cf8dd9c3"
   },
   "source": [
    "**TF - IDF**"
   ]
  },
  {
   "cell_type": "code",
   "execution_count": 55,
   "id": "a623ef1d",
   "metadata": {
    "executionInfo": {
     "elapsed": 432,
     "status": "ok",
     "timestamp": 1702838671588,
     "user": {
      "displayName": "Lauraine Munkanta",
      "userId": "06811698983110611137"
     },
     "user_tz": -60
    },
    "id": "a623ef1d"
   },
   "outputs": [],
   "source": [
    "#TF-IDF model is run to measure how important each document is in the corpus\n",
    "#The hyperparameter (min_df=2) only considers words that apply in two or more documents in the corpus\n",
    "\n",
    "tfidf_model = TfidfVectorizer(min_df=2)\n",
    "\n",
    "#This code aims to fit and transform the cleaned review column\n",
    "tfidf_features = tfidf_model.fit_transform(df['clean_reviews'])\n",
    "\n",
    "#Gets the feature names (words) from the TF-IDF vectorizer\n",
    "tfidf_feature_names = tfidf_model.get_feature_names_out()\n"
   ]
  },
  {
   "cell_type": "code",
   "execution_count": 56,
   "id": "d49fd487",
   "metadata": {
    "colab": {
     "base_uri": "https://localhost:8080/",
     "height": 530
    },
    "executionInfo": {
     "elapsed": 500,
     "status": "ok",
     "timestamp": 1702838672072,
     "user": {
      "displayName": "Lauraine Munkanta",
      "userId": "06811698983110611137"
     },
     "user_tz": -60
    },
    "id": "d49fd487",
    "outputId": "212f8e71-64ef-4c4f-dffc-073074204185"
   },
   "outputs": [
    {
     "data": {
      "text/html": [
       "<div>\n",
       "<style scoped>\n",
       "    .dataframe tbody tr th:only-of-type {\n",
       "        vertical-align: middle;\n",
       "    }\n",
       "\n",
       "    .dataframe tbody tr th {\n",
       "        vertical-align: top;\n",
       "    }\n",
       "\n",
       "    .dataframe thead th {\n",
       "        text-align: right;\n",
       "    }\n",
       "</style>\n",
       "<table border=\"1\" class=\"dataframe\">\n",
       "  <thead>\n",
       "    <tr style=\"text-align: right;\">\n",
       "      <th></th>\n",
       "      <th>text</th>\n",
       "      <th>ratingvalue</th>\n",
       "      <th>clean_reviews</th>\n",
       "      <th>0</th>\n",
       "      <th>1</th>\n",
       "      <th>2</th>\n",
       "      <th>3</th>\n",
       "      <th>4</th>\n",
       "      <th>5</th>\n",
       "      <th>6</th>\n",
       "      <th>...</th>\n",
       "      <th>3229</th>\n",
       "      <th>3230</th>\n",
       "      <th>3231</th>\n",
       "      <th>3232</th>\n",
       "      <th>3233</th>\n",
       "      <th>3234</th>\n",
       "      <th>3235</th>\n",
       "      <th>3236</th>\n",
       "      <th>3237</th>\n",
       "      <th>3238</th>\n",
       "    </tr>\n",
       "  </thead>\n",
       "  <tbody>\n",
       "    <tr>\n",
       "      <th>0</th>\n",
       "      <td>To tell you the truth, they sell fried chicken...</td>\n",
       "      <td>1</td>\n",
       "      <td>tell truth sell fried chicken chicken crispy b...</td>\n",
       "      <td>0.0</td>\n",
       "      <td>0.0</td>\n",
       "      <td>0.0</td>\n",
       "      <td>0.0</td>\n",
       "      <td>0.0</td>\n",
       "      <td>0.0</td>\n",
       "      <td>0.0</td>\n",
       "      <td>...</td>\n",
       "      <td>0.0</td>\n",
       "      <td>0.0</td>\n",
       "      <td>0.0</td>\n",
       "      <td>0.0</td>\n",
       "      <td>0.0</td>\n",
       "      <td>0.0</td>\n",
       "      <td>0.0</td>\n",
       "      <td>0.0</td>\n",
       "      <td>0.0</td>\n",
       "      <td>0.0</td>\n",
       "    </tr>\n",
       "    <tr>\n",
       "      <th>1</th>\n",
       "      <td>Crispy was so bad</td>\n",
       "      <td>3</td>\n",
       "      <td>crispy wa bad</td>\n",
       "      <td>0.0</td>\n",
       "      <td>0.0</td>\n",
       "      <td>0.0</td>\n",
       "      <td>0.0</td>\n",
       "      <td>0.0</td>\n",
       "      <td>0.0</td>\n",
       "      <td>0.0</td>\n",
       "      <td>...</td>\n",
       "      <td>0.0</td>\n",
       "      <td>0.0</td>\n",
       "      <td>0.0</td>\n",
       "      <td>0.0</td>\n",
       "      <td>0.0</td>\n",
       "      <td>0.0</td>\n",
       "      <td>0.0</td>\n",
       "      <td>0.0</td>\n",
       "      <td>0.0</td>\n",
       "      <td>0.0</td>\n",
       "    </tr>\n",
       "    <tr>\n",
       "      <th>2</th>\n",
       "      <td>The restaurant provided leas items which I ord...</td>\n",
       "      <td>1</td>\n",
       "      <td>restaurant provided lea item ordered</td>\n",
       "      <td>0.0</td>\n",
       "      <td>0.0</td>\n",
       "      <td>0.0</td>\n",
       "      <td>0.0</td>\n",
       "      <td>0.0</td>\n",
       "      <td>0.0</td>\n",
       "      <td>0.0</td>\n",
       "      <td>...</td>\n",
       "      <td>0.0</td>\n",
       "      <td>0.0</td>\n",
       "      <td>0.0</td>\n",
       "      <td>0.0</td>\n",
       "      <td>0.0</td>\n",
       "      <td>0.0</td>\n",
       "      <td>0.0</td>\n",
       "      <td>0.0</td>\n",
       "      <td>0.0</td>\n",
       "      <td>0.0</td>\n",
       "    </tr>\n",
       "    <tr>\n",
       "      <th>3</th>\n",
       "      <td>already send you a picture about my meal. tota...</td>\n",
       "      <td>1</td>\n",
       "      <td>send picture meal totally mass food coleslaw d...</td>\n",
       "      <td>0.0</td>\n",
       "      <td>0.0</td>\n",
       "      <td>0.0</td>\n",
       "      <td>0.0</td>\n",
       "      <td>0.0</td>\n",
       "      <td>0.0</td>\n",
       "      <td>0.0</td>\n",
       "      <td>...</td>\n",
       "      <td>0.0</td>\n",
       "      <td>0.0</td>\n",
       "      <td>0.0</td>\n",
       "      <td>0.0</td>\n",
       "      <td>0.0</td>\n",
       "      <td>0.0</td>\n",
       "      <td>0.0</td>\n",
       "      <td>0.0</td>\n",
       "      <td>0.0</td>\n",
       "      <td>0.0</td>\n",
       "    </tr>\n",
       "    <tr>\n",
       "      <th>4</th>\n",
       "      <td>Excellent as before</td>\n",
       "      <td>5</td>\n",
       "      <td>excellent</td>\n",
       "      <td>0.0</td>\n",
       "      <td>0.0</td>\n",
       "      <td>0.0</td>\n",
       "      <td>0.0</td>\n",
       "      <td>0.0</td>\n",
       "      <td>0.0</td>\n",
       "      <td>0.0</td>\n",
       "      <td>...</td>\n",
       "      <td>0.0</td>\n",
       "      <td>0.0</td>\n",
       "      <td>0.0</td>\n",
       "      <td>0.0</td>\n",
       "      <td>0.0</td>\n",
       "      <td>0.0</td>\n",
       "      <td>0.0</td>\n",
       "      <td>0.0</td>\n",
       "      <td>0.0</td>\n",
       "      <td>0.0</td>\n",
       "    </tr>\n",
       "  </tbody>\n",
       "</table>\n",
       "<p>5 rows × 3242 columns</p>\n",
       "</div>"
      ],
      "text/plain": [
       "                                                text  ratingvalue  \\\n",
       "0  To tell you the truth, they sell fried chicken...            1   \n",
       "1                                  Crispy was so bad            3   \n",
       "2  The restaurant provided leas items which I ord...            1   \n",
       "3  already send you a picture about my meal. tota...            1   \n",
       "4                                Excellent as before            5   \n",
       "\n",
       "                                       clean_reviews    0    1    2    3    4  \\\n",
       "0  tell truth sell fried chicken chicken crispy b...  0.0  0.0  0.0  0.0  0.0   \n",
       "1                                      crispy wa bad  0.0  0.0  0.0  0.0  0.0   \n",
       "2               restaurant provided lea item ordered  0.0  0.0  0.0  0.0  0.0   \n",
       "3  send picture meal totally mass food coleslaw d...  0.0  0.0  0.0  0.0  0.0   \n",
       "4                                          excellent  0.0  0.0  0.0  0.0  0.0   \n",
       "\n",
       "     5    6  ...  3229  3230  3231  3232  3233  3234  3235  3236  3237  3238  \n",
       "0  0.0  0.0  ...   0.0   0.0   0.0   0.0   0.0   0.0   0.0   0.0   0.0   0.0  \n",
       "1  0.0  0.0  ...   0.0   0.0   0.0   0.0   0.0   0.0   0.0   0.0   0.0   0.0  \n",
       "2  0.0  0.0  ...   0.0   0.0   0.0   0.0   0.0   0.0   0.0   0.0   0.0   0.0  \n",
       "3  0.0  0.0  ...   0.0   0.0   0.0   0.0   0.0   0.0   0.0   0.0   0.0   0.0  \n",
       "4  0.0  0.0  ...   0.0   0.0   0.0   0.0   0.0   0.0   0.0   0.0   0.0   0.0  \n",
       "\n",
       "[5 rows x 3242 columns]"
      ]
     },
     "execution_count": 56,
     "metadata": {},
     "output_type": "execute_result"
    }
   ],
   "source": [
    "#After converting the text to vectors, the new vectorized dataset is added to the old dataset using the below code\n",
    "\n",
    "df = df.join(pd.DataFrame(tfidf_features.toarray()))\n",
    "inverted_index = {id: term for term, id in tfidf_model.vocabulary_.items()}\n",
    "df.head()"
   ]
  },
  {
   "cell_type": "code",
   "execution_count": 57,
   "id": "d6f56013",
   "metadata": {
    "colab": {
     "base_uri": "https://localhost:8080/"
    },
    "executionInfo": {
     "elapsed": 60,
     "status": "ok",
     "timestamp": 1702838672073,
     "user": {
      "displayName": "Lauraine Munkanta",
      "userId": "06811698983110611137"
     },
     "user_tz": -60
    },
    "id": "d6f56013",
    "outputId": "195bb56b-4015-46ab-f67b-a5ebacb8a757"
   },
   "outputs": [
    {
     "data": {
      "text/plain": [
       "(15017, 3239)"
      ]
     },
     "execution_count": 57,
     "metadata": {},
     "output_type": "execute_result"
    }
   ],
   "source": [
    "#Prints the dimension of the dataframe of the train features which includes the tfidf vectors of all documents\n",
    "tfidf_features.shape"
   ]
  },
  {
   "cell_type": "code",
   "execution_count": 58,
   "id": "90342eae",
   "metadata": {
    "colab": {
     "base_uri": "https://localhost:8080/"
    },
    "executionInfo": {
     "elapsed": 48,
     "status": "ok",
     "timestamp": 1702838672073,
     "user": {
      "displayName": "Lauraine Munkanta",
      "userId": "06811698983110611137"
     },
     "user_tz": -60
    },
    "id": "90342eae",
    "outputId": "4b592dbc-b41a-4536-f805-ce1777f9ded9"
   },
   "outputs": [
    {
     "name": "stdout",
     "output_type": "stream",
     "text": [
      "['aa' 'abar' 'abesh' 'able' 'abominable' 'abr' 'absent' 'absolute'\n",
      " 'absolutely' 'absurd' 'abuse' 'accept' 'acceptable' 'accepted'\n",
      " 'accepting' 'accident' 'accompanied' 'according' 'accordingly' 'account'\n",
      " 'accurate' 'achar' 'achari' 'ache' 'acidity' 'act' 'action' 'actively'\n",
      " 'actu' 'actual' 'actually' 'add' 'added' 'adding' 'addition' 'additional'\n",
      " 'addon' 'address' 'adequate' 'adjusted' 'advance' 'advertised' 'af'\n",
      " 'affordable' 'afraid' 'afternoon' 'agar' 'age' 'agei' 'agent']\n"
     ]
    }
   ],
   "source": [
    "#Prints the vocabulary first 50 feature names\n",
    "print(tfidf_feature_names[:50])"
   ]
  },
  {
   "cell_type": "code",
   "execution_count": 59,
   "id": "b98cab9f",
   "metadata": {
    "colab": {
     "base_uri": "https://localhost:8080/"
    },
    "executionInfo": {
     "elapsed": 38,
     "status": "ok",
     "timestamp": 1702838672074,
     "user": {
      "displayName": "Lauraine Munkanta",
      "userId": "06811698983110611137"
     },
     "user_tz": -60
    },
    "id": "b98cab9f",
    "outputId": "34defbe0-75ec-45cd-b642-91fe1de59b84"
   },
   "outputs": [
    {
     "data": {
      "text/plain": [
       "48.685114"
      ]
     },
     "execution_count": 59,
     "metadata": {},
     "output_type": "execute_result"
    }
   ],
   "source": [
    "#Prints the total number of datapoints present in the vectorized dataset\n",
    "df.size/1e6"
   ]
  },
  {
   "cell_type": "code",
   "execution_count": 60,
   "id": "4eb33187",
   "metadata": {
    "colab": {
     "base_uri": "https://localhost:8080/"
    },
    "executionInfo": {
     "elapsed": 24032,
     "status": "ok",
     "timestamp": 1702838696326,
     "user": {
      "displayName": "Lauraine Munkanta",
      "userId": "06811698983110611137"
     },
     "user_tz": -60
    },
    "id": "4eb33187",
    "outputId": "65d6aa0d-75ae-44c7-b0f1-639b58712f77"
   },
   "outputs": [
    {
     "data": {
      "text/plain": [
       "129694"
      ]
     },
     "execution_count": 60,
     "metadata": {},
     "output_type": "execute_result"
    }
   ],
   "source": [
    "#Counts the number of non zero elements in the dataset\n",
    "np.count_nonzero(df)"
   ]
  },
  {
   "cell_type": "code",
   "execution_count": 61,
   "id": "2a5d7ac2",
   "metadata": {
    "colab": {
     "base_uri": "https://localhost:8080/"
    },
    "executionInfo": {
     "elapsed": 15405,
     "status": "ok",
     "timestamp": 1702838711978,
     "user": {
      "displayName": "Lauraine Munkanta",
      "userId": "06811698983110611137"
     },
     "user_tz": -60
    },
    "id": "2a5d7ac2",
    "outputId": "6be76517-9afd-457f-9615-3f5cf012f1b6"
   },
   "outputs": [
    {
     "name": "stdout",
     "output_type": "stream",
     "text": [
      "The percent of non-zero element in the dataset is:  0.2663935427983182\n"
     ]
    }
   ],
   "source": [
    "#To check sparsity representation, the below code is run to check the matrix density\n",
    "\n",
    "print(\"The percent of non-zero element in the dataset is: \", 100*np.count_nonzero(df)/df.size)"
   ]
  },
  {
   "cell_type": "markdown",
   "id": "e59016be",
   "metadata": {
    "id": "e59016be"
   },
   "source": [
    "## Train / Test Dataset Preparation"
   ]
  },
  {
   "cell_type": "markdown",
   "id": "bcffdc1e",
   "metadata": {},
   "source": [
    "At this stage, the target and feature labels are set to aid the model building. The dataset is split into train, validation and test datasets. The dataset was first split into big train dataset and test dataset, then split the big train dataset into a validation and train dataset. Train (60%), Validation (20%) and Test (20%) dataset. Due to the dataset being imbalanced, a SMOTE oversampling technique was done to balance the dataset. Initially, the ADASYN technique was also used in this dataset but this led to a runtime error that also highlighted that there was no need to add the ADASYN technique to the dataset."
   ]
  },
  {
   "cell_type": "code",
   "execution_count": 62,
   "id": "0ce563b4",
   "metadata": {
    "colab": {
     "base_uri": "https://localhost:8080/"
    },
    "executionInfo": {
     "elapsed": 31,
     "status": "ok",
     "timestamp": 1702838711979,
     "user": {
      "displayName": "Lauraine Munkanta",
      "userId": "06811698983110611137"
     },
     "user_tz": -60
    },
    "id": "0ce563b4",
    "outputId": "cef87de4-4127-4f8e-9073-41a6f5a6fd51"
   },
   "outputs": [
    {
     "data": {
      "text/plain": [
       "dtype('int64')"
      ]
     },
     "execution_count": 62,
     "metadata": {},
     "output_type": "execute_result"
    }
   ],
   "source": [
    "#Checks for the datatype of the features in the target label column\n",
    "df[\"ratingvalue\"].dtype"
   ]
  },
  {
   "cell_type": "code",
   "execution_count": 63,
   "id": "1d21a1bd",
   "metadata": {
    "colab": {
     "base_uri": "https://localhost:8080/"
    },
    "executionInfo": {
     "elapsed": 454,
     "status": "ok",
     "timestamp": 1702838712418,
     "user": {
      "displayName": "Lauraine Munkanta",
      "userId": "06811698983110611137"
     },
     "user_tz": -60
    },
    "id": "1d21a1bd",
    "outputId": "6f3374ca-104e-49f8-ec9c-47c1dfc29f74"
   },
   "outputs": [
    {
     "name": "stdout",
     "output_type": "stream",
     "text": [
      "Shape of the whole dataset:  (15017, 3240)\n",
      "Number of features:  3240\n"
     ]
    }
   ],
   "source": [
    "#Sets the target to the target label column, and formats the integer values to datatype float\n",
    "target = df[\"ratingvalue\"]\n",
    "target = target.values\n",
    "target = target.astype(float)\n",
    "\n",
    "#The code sets the features by dropping the target label and all columns with non numeric values\n",
    "#Then formats the datatype to float\n",
    "features = df.drop([\"text\", \"clean_reviews\"], axis=1)\n",
    "features = features.values\n",
    "features = features.astype(float)\n",
    "\n",
    "print(\"Shape of the whole dataset: \", features.shape)\n",
    "print(\"Number of features: \", features.shape[1])"
   ]
  },
  {
   "cell_type": "code",
   "execution_count": 64,
   "id": "ca407996",
   "metadata": {
    "colab": {
     "base_uri": "https://localhost:8080/"
    },
    "executionInfo": {
     "elapsed": 366,
     "status": "ok",
     "timestamp": 1702838712777,
     "user": {
      "displayName": "Lauraine Munkanta",
      "userId": "06811698983110611137"
     },
     "user_tz": -60
    },
    "id": "ca407996",
    "outputId": "d22f9446-33b7-48c0-9371-ed883c5fac7d"
   },
   "outputs": [
    {
     "name": "stdout",
     "output_type": "stream",
     "text": [
      "Train size: (9610, 3240)\n",
      "Validation size:  (2403, 3240)\n",
      "Test size: (3004, 3240)\n"
     ]
    }
   ],
   "source": [
    "#Splits the train, validation and test datasets and also defines the x and y train, validation and test features\n",
    "#Starts by first splitting the data into two sets big train and test dataset, then the big train is later split into validation and train dataset.\n",
    "\n",
    "x_train_big, x_test, y_train_big, y_test = train_test_split(features, target, test_size=0.2, shuffle=True, stratify=target)\n",
    "x_train, x_val, y_train, y_val = train_test_split(x_train_big, y_train_big, test_size=0.2,shuffle=True, stratify=y_train_big)\n",
    "\n",
    "print(\"Train size:\", x_train.shape)\n",
    "print(\"Validation size: \", x_val.shape)\n",
    "print(\"Test size:\", x_test.shape)"
   ]
  },
  {
   "cell_type": "code",
   "execution_count": 65,
   "id": "2c176805",
   "metadata": {
    "executionInfo": {
     "elapsed": 3759,
     "status": "ok",
     "timestamp": 1702838716527,
     "user": {
      "displayName": "Lauraine Munkanta",
      "userId": "06811698983110611137"
     },
     "user_tz": -60
    },
    "id": "2c176805"
   },
   "outputs": [],
   "source": [
    "#To mitigate the imbalanced dataset, oversampling is done to the training dataset so as to balance the data.\n",
    "x_resampled, y_resampled = SMOTE().fit_resample(x_train, y_train)\n",
    "#x_resampled_2, y_resampled_2 = ADASYN().fit_resample(x_train, y_train)"
   ]
  },
  {
   "cell_type": "markdown",
   "id": "7a88a385",
   "metadata": {
    "id": "7a88a385"
   },
   "source": [
    "## Model Comparison and Selection"
   ]
  },
  {
   "cell_type": "markdown",
   "id": "_-u0dtKtQRY6",
   "metadata": {
    "id": "_-u0dtKtQRY6"
   },
   "source": [
    "Three functions were defined in this stage:\n",
    "\n",
    "**Evaluation Metrics**\n",
    "\n",
    "Four evaluation metrics were used: Geometric Mean Score, Accuracy, F1 score and Product Score of all three metrics. After evaluation, most of the metrics score were performed really well. The main evaluation metric that this pipeline focused on was the F1 score metric due to the below advantages:\n",
    "\n",
    "* It balances the precision and recall taking into account both the false positive and false negatives and reducing the trade-off dilemma;\n",
    "* It is sensitive to class imbalance;\n",
    "* It provides a single metric that summarizes the performance of a classifier across all classes; and,\n",
    "* It is easy to interpret.\n",
    "\n",
    "The perfect evaluation metrics may lead to disavadvantages and limitaitons like overfitting, data leakage, limited generalization, inadequate evaluation and failure to identify model limitations. This pipeline has a perfect metric score meaning there is need to reevaluate the entire pipeline.\n",
    "\n",
    "\n",
    "**Imbalanced and SMOTE**\n",
    "\n",
    "Dataset was evaluated using the above highlighted matrics on both the imbalanced dataset and balanced dataset - SMOTE oversampling technique.\n",
    "\n",
    "When ADASYN was used the dataset kept running into a runtime error that highlighted that the ADASYN oversampling technique was not useful for this pipeline. The ADASYN was having trouble finding any neighbors belonging to the majority class, which could have led to a division by zero error or NaN values. Therefore, ADASYN was removed from the pipeline and SMOTE was used instead for this specific dataset.\n",
    "\n",
    "**Reviewed Models**\n",
    "\n",
    "The following models were used to in the pipeline:\n",
    "* LogisticRegression\n",
    "* DecisionTreeClassifier\n",
    "* RandomForestClassifier\n",
    "* GradientBoostingClassifier\n",
    "* GaussianNB\n",
    "* KNeighborsClassifier\n",
    "* LinearDiscriminantAnalysis\n",
    "* QuadraticDiscriminantAnalysis\n",
    "\n",
    "Despite having run the LogisticRegression, there was a convergence warning that indicated that the code failed to converge.\n",
    "Additionally, the LinearDiscriminantAnalysis was removed from the pipeline as they did not perform well and the QuadraticDiscriminantAnalysis performed well but there was future warning in the code that needed some adjustments to the code. More information on how each algorithm performs has been added below.  \n"
   ]
  },
  {
   "cell_type": "code",
   "execution_count": 66,
   "id": "5797d849",
   "metadata": {
    "colab": {
     "base_uri": "https://localhost:8080/"
    },
    "executionInfo": {
     "elapsed": 980675,
     "status": "ok",
     "timestamp": 1702839697186,
     "user": {
      "displayName": "Lauraine Munkanta",
      "userId": "06811698983110611137"
     },
     "user_tz": -60
    },
    "id": "5797d849",
    "outputId": "01fb56a3-d23c-436d-e1ed-543bf98814bb",
    "scrolled": true
   },
   "outputs": [
    {
     "name": "stdout",
     "output_type": "stream",
     "text": [
      "<class 'sklearn.linear_model._logistic.LogisticRegression'>\n",
      "---------------------------------------------------------------------\n"
     ]
    },
    {
     "name": "stderr",
     "output_type": "stream",
     "text": [
      "C:\\Users\\HP\\anaconda3\\lib\\site-packages\\sklearn\\linear_model\\_logistic.py:814: ConvergenceWarning: lbfgs failed to converge (status=1):\n",
      "STOP: TOTAL NO. of ITERATIONS REACHED LIMIT.\n",
      "\n",
      "Increase the number of iterations (max_iter) or scale the data as shown in:\n",
      "    https://scikit-learn.org/stable/modules/preprocessing.html\n",
      "Please also refer to the documentation for alternative solver options:\n",
      "    https://scikit-learn.org/stable/modules/linear_model.html#logistic-regression\n",
      "  n_iter_i = _check_optimize_result(\n"
     ]
    },
    {
     "name": "stdout",
     "output_type": "stream",
     "text": [
      "Imbalanced:   G-mean 1.000     Accuracy 1.0       F1 1.0       Product 1.000\n"
     ]
    },
    {
     "name": "stderr",
     "output_type": "stream",
     "text": [
      "C:\\Users\\HP\\anaconda3\\lib\\site-packages\\sklearn\\linear_model\\_logistic.py:814: ConvergenceWarning: lbfgs failed to converge (status=1):\n",
      "STOP: TOTAL NO. of ITERATIONS REACHED LIMIT.\n",
      "\n",
      "Increase the number of iterations (max_iter) or scale the data as shown in:\n",
      "    https://scikit-learn.org/stable/modules/preprocessing.html\n",
      "Please also refer to the documentation for alternative solver options:\n",
      "    https://scikit-learn.org/stable/modules/linear_model.html#logistic-regression\n",
      "  n_iter_i = _check_optimize_result(\n"
     ]
    },
    {
     "name": "stdout",
     "output_type": "stream",
     "text": [
      "SMOTE:   G-mean 1.000     Accuracy 1.0       F1 1.0       Product 1.000\n",
      "<class 'sklearn.tree._classes.DecisionTreeClassifier'>\n",
      "---------------------------------------------------------------------\n",
      "Imbalanced:   G-mean 1.000     Accuracy 1.0       F1 1.0       Product 1.000\n",
      "SMOTE:   G-mean 1.000     Accuracy 1.0       F1 1.0       Product 1.000\n",
      "<class 'sklearn.ensemble._forest.RandomForestClassifier'>\n",
      "---------------------------------------------------------------------\n",
      "Imbalanced:   G-mean 0.923     Accuracy 0.955       F1 0.954       Product 0.868\n",
      "SMOTE:   G-mean 0.939     Accuracy 0.966       F1 0.965       Product 0.897\n",
      "<class 'sklearn.ensemble._gb.GradientBoostingClassifier'>\n",
      "---------------------------------------------------------------------\n",
      "Imbalanced:   G-mean 1.000     Accuracy 1.0       F1 1.0       Product 1.000\n",
      "SMOTE:   G-mean 1.000     Accuracy 1.0       F1 1.0       Product 1.000\n",
      "<class 'sklearn.naive_bayes.GaussianNB'>\n",
      "---------------------------------------------------------------------\n",
      "Imbalanced:   G-mean 1.000     Accuracy 1.0       F1 1.0       Product 1.000\n",
      "SMOTE:   G-mean 1.000     Accuracy 1.0       F1 1.0       Product 1.000\n",
      "<class 'sklearn.neighbors._classification.KNeighborsClassifier'>\n",
      "---------------------------------------------------------------------\n"
     ]
    },
    {
     "name": "stderr",
     "output_type": "stream",
     "text": [
      "C:\\Users\\HP\\anaconda3\\lib\\site-packages\\sklearn\\neighbors\\_classification.py:228: FutureWarning: Unlike other reduction functions (e.g. `skew`, `kurtosis`), the default behavior of `mode` typically preserves the axis it acts along. In SciPy 1.11.0, this behavior will change: the default value of `keepdims` will become False, the `axis` over which the statistic is taken will be eliminated, and the value None will no longer be accepted. Set `keepdims` to True or False to avoid this warning.\n",
      "  mode, _ = stats.mode(_y[neigh_ind, k], axis=1)\n"
     ]
    },
    {
     "name": "stdout",
     "output_type": "stream",
     "text": [
      "Imbalanced:   G-mean 1.000     Accuracy 1.0       F1 1.0       Product 1.000\n",
      "SMOTE:   G-mean 0.999     Accuracy 1.0       F1 1.0       Product 0.999\n"
     ]
    },
    {
     "name": "stderr",
     "output_type": "stream",
     "text": [
      "C:\\Users\\HP\\anaconda3\\lib\\site-packages\\sklearn\\neighbors\\_classification.py:228: FutureWarning: Unlike other reduction functions (e.g. `skew`, `kurtosis`), the default behavior of `mode` typically preserves the axis it acts along. In SciPy 1.11.0, this behavior will change: the default value of `keepdims` will become False, the `axis` over which the statistic is taken will be eliminated, and the value None will no longer be accepted. Set `keepdims` to True or False to avoid this warning.\n",
      "  mode, _ = stats.mode(_y[neigh_ind, k], axis=1)\n"
     ]
    }
   ],
   "source": [
    "#Defining the evaluation metrics function that considers multiple metrics.\n",
    "def product_score(y_true, y_pred):\n",
    "    return geometric_mean_score(y_true, y_pred) * accuracy_score(y_pred, y_true) * f1_score(y_pred,y_true, average='weighted') ** (1. / 3)\n",
    "\n",
    "def apply_model(clf_class, **kwargs):\n",
    "    clf = clf_class(**kwargs)\n",
    "    print(clf_class)\n",
    "    print(\"---------------------------------------------------------------------\")\n",
    "\n",
    "    clf.fit(x_train, y_train)\n",
    "    pred = clf.predict(x_val)\n",
    "    gms = geometric_mean_score(y_val, pred)\n",
    "    acc = accuracy_score(y_val, pred)\n",
    "    f1 = f1_score(y_val, pred, average='weighted')\n",
    "    prod = product_score(y_val,pred)\n",
    "    print(\"Imbalanced:   G-mean {:.3f}     Accuracy {:.3}       F1 {:.3}       Product {:.3f}\". format(gms, acc, f1, prod))\n",
    "\n",
    "    clf.fit(x_resampled, y_resampled)\n",
    "    pred = clf.predict(x_val)\n",
    "    gms = geometric_mean_score(y_val, pred)\n",
    "    acc = accuracy_score(y_val, pred)\n",
    "    f1 = f1_score(y_val, pred, average='weighted')\n",
    "    prod = product_score(y_val,pred)\n",
    "    print(\"SMOTE:   G-mean {:.3f}     Accuracy {:.3}       F1 {:.3}       Product {:.3f}\". format(gms, acc, f1, prod))\n",
    "\n",
    "    # clf.fit(x_resampled_2, y_resampled_2)\n",
    "    # pred = clf.predict(x_val)\n",
    "    # gms = geometric_mean_score(y_val, pred)\n",
    "    # acc = accuracy_score(y_val, pred)\n",
    "    # f1 = f1_score(y_val, pred)\n",
    "    # prod = product_score(y_val,pred)\n",
    "    # print(\"ADASYN:   G-mean {:.3f}     Accuracy {:.3}       F1 {:.3}       Product {:.3f}\". format(gms, acc, f1, prod))\n",
    "\n",
    "\n",
    "def compare_models():\n",
    "    apply_model(LogisticRegression)\n",
    "    apply_model(DecisionTreeClassifier)\n",
    "    apply_model(RandomForestClassifier)\n",
    "    apply_model(GradientBoostingClassifier)\n",
    "    apply_model(GaussianNB)\n",
    "    apply_model(KNeighborsClassifier)\n",
    "    #apply_model(LinearDiscriminantAnalysis)\n",
    "    #apply_model(QuadraticDiscriminantAnalysis)\n",
    "\n",
    "compare_models()"
   ]
  },
  {
   "attachments": {
    "image.png": {
     "image/png": "[encoded data removed]"
    }
   },
   "cell_type": "markdown",
   "id": "Hlfn65B8fkJW",
   "metadata": {
    "id": "Hlfn65B8fkJW"
   },
   "source": [
    "![image.png](attachment:image.png)"
   ]
  },
  {
   "cell_type": "markdown",
   "id": "zznYt-ZcgB82",
   "metadata": {
    "id": "zznYt-ZcgB82"
   },
   "source": [
    "The model evaluation highlighted several models that performed really well, therefore, for this pipeline, Gradient Boosting Classifier was selected as the best model as it was one of the models that performed exceptionally well in this pipeline."
   ]
  },
  {
   "cell_type": "markdown",
   "id": "d45484fa",
   "metadata": {
    "id": "d45484fa"
   },
   "source": [
    "### Hyperparameter Tuning"
   ]
  },
  {
   "cell_type": "markdown",
   "id": "ek_FGi5Dg1jf",
   "metadata": {
    "id": "ek_FGi5Dg1jf"
   },
   "source": [
    "Based on the model selected, Gradient Boosting Classifier, hyperparameter tuning was conducted to select the best parameters."
   ]
  },
  {
   "cell_type": "code",
   "execution_count": 68,
   "id": "4fd5e56f",
   "metadata": {
    "colab": {
     "base_uri": "https://localhost:8080/",
     "height": 425
    },
    "executionInfo": {
     "elapsed": 9462,
     "status": "error",
     "timestamp": 1702839706581,
     "user": {
      "displayName": "Lauraine Munkanta",
      "userId": "06811698983110611137"
     },
     "user_tz": -60
    },
    "id": "4fd5e56f",
    "outputId": "d4c4e5e2-1484-42f0-e973-8529efca24a0"
   },
   "outputs": [
    {
     "name": "stdout",
     "output_type": "stream",
     "text": [
      "Manual Grid Search Results: \n",
      "\n",
      "n_estimators =  50       learning_rate = 0.01      max_depth =3     f1 = 1.000\n",
      "n_estimators =  50       learning_rate = 0.01      max_depth =5     f1 = 1.000\n",
      "n_estimators =  50       learning_rate = 0.10      max_depth =3     f1 = 1.000\n",
      "n_estimators =  50       learning_rate = 0.10      max_depth =5     f1 = 1.000\n",
      "n_estimators =  50       learning_rate = 0.50      max_depth =3     f1 = 1.000\n",
      "n_estimators =  50       learning_rate = 0.50      max_depth =5     f1 = 1.000\n",
      "n_estimators = 100       learning_rate = 0.01      max_depth =3     f1 = 1.000\n",
      "n_estimators = 100       learning_rate = 0.01      max_depth =5     f1 = 1.000\n",
      "n_estimators = 100       learning_rate = 0.10      max_depth =3     f1 = 1.000\n",
      "n_estimators = 100       learning_rate = 0.10      max_depth =5     f1 = 1.000\n",
      "n_estimators = 100       learning_rate = 0.50      max_depth =3     f1 = 1.000\n",
      "n_estimators = 100       learning_rate = 0.50      max_depth =5     f1 = 1.000\n",
      "n_estimators = 150       learning_rate = 0.01      max_depth =3     f1 = 1.000\n",
      "n_estimators = 150       learning_rate = 0.01      max_depth =5     f1 = 1.000\n",
      "n_estimators = 150       learning_rate = 0.10      max_depth =3     f1 = 1.000\n",
      "n_estimators = 150       learning_rate = 0.10      max_depth =5     f1 = 1.000\n",
      "n_estimators = 150       learning_rate = 0.50      max_depth =3     f1 = 1.000\n",
      "n_estimators = 150       learning_rate = 0.50      max_depth =5     f1 = 1.000\n"
     ]
    }
   ],
   "source": [
    "n_estimators = [50,100, 150]  #Number of boosting stages to be run\n",
    "learning_rates = [.01, .1, .5]   #The rate at which the algorithm adapts to the errors from the previous stages.\n",
    "max_depths = [3, 5]   #Maximum depth of the indivitual trees\n",
    "\n",
    "print(\"Manual Grid Search Results: \\n\")\n",
    "\n",
    "#Seeks to manually run through all the selected parameters and select the best hyperparameters with the best metric score.\n",
    "max_f1 = 0\n",
    "best_hyper_params = []\n",
    "for n in n_estimators:\n",
    "  for r in learning_rates:\n",
    "    for d in max_depths:\n",
    "      model = GradientBoostingClassifier(n_estimators=n, learning_rate=r, max_depth=d)\n",
    "      model.fit(x_resampled, y_resampled)\n",
    "      pred = model.predict(x_val)\n",
    "      f1 = f1_score(y_val, pred, average='weighted')\n",
    "      print(\"n_estimators = {:3d}       learning_rate = {:.2f}      max_depth ={:g}     f1 = {:.3f}\". format(n, r, d, f1))\n",
    "\n",
    "      if f1 > max_f1:\n",
    "        maxf1 = f1\n",
    "        best_hyper_params = [n, r, d]\n",
    "\n"
   ]
  },
  {
   "cell_type": "code",
   "execution_count": 71,
   "id": "dHoMnLKwy5_T",
   "metadata": {
    "executionInfo": {
     "elapsed": 15,
     "status": "aborted",
     "timestamp": 1702839706583,
     "user": {
      "displayName": "Lauraine Munkanta",
      "userId": "06811698983110611137"
     },
     "user_tz": -60
    },
    "id": "dHoMnLKwy5_T"
   },
   "outputs": [
    {
     "name": "stdout",
     "output_type": "stream",
     "text": [
      "=======================================================================================================\n",
      "The best hyperparameter set:\n",
      "\n",
      "n_estimators = 150      learning_rate = 0.50     max_depth =5     f1 = 1.000\n"
     ]
    }
   ],
   "source": [
    "print(\"=======================================================================================================\")\n",
    "print(\"The best hyperparameter set:\\n\")\n",
    "print(\"n_estimators = {:3d}      learning_rate = {:.2f}     max_depth ={:g}     f1 = {:.3f}\". format(best_hyper_params[0], best_hyper_params[1], best_hyper_params[2], maxf1))"
   ]
  },
  {
   "cell_type": "markdown",
   "id": "cf6bb71f",
   "metadata": {
    "id": "cf6bb71f"
   },
   "source": [
    "## Suggested Predictive Model"
   ]
  },
  {
   "cell_type": "markdown",
   "id": "200125ce",
   "metadata": {},
   "source": [
    "After training different models, testing out different evaluation metrics, running the grid search to select the best hyperparameters and selecting the best model for the dataset, the selected model is used to then used to predict values on the test dataset and evaluate the predicted and actual values. Before the test dataset is used to predict the model, the big train dataset is balanced using the SMOTE oversampling technique using the best hyperparameters and then fit on the big train balanced dataset.  \n",
    "\n",
    "The Classification report highlights the Class Labels (1.0, 2.0, 3.0, 4.0, 5.0).\n",
    "\n",
    "Precision is a measure of the accuracy of the positive predictions, the below code indicates perfect precision.\n",
    "\n",
    "Recall measure the ability of the classifier to capture all the relevant instances of a class, the below socre indicates perfect recall.\n",
    "\n",
    "F1 Score provides the balanced measure of a model's performance considering both false positives and false negatives. The F1 score of 1.00 indicates a perfect balance between precision and recall.\n",
    "\n",
    "Support is the number of actual occurrences of the class in the specified dataset. It represents the number of instances belonging to each class.\n",
    "\n",
    "Accuracy is the ratio of correctly predicted instances to the total instances. \n"
   ]
  },
  {
   "cell_type": "code",
   "execution_count": 89,
   "id": "c8c48d4c",
   "metadata": {
    "executionInfo": {
     "elapsed": 15,
     "status": "aborted",
     "timestamp": 1702839706584,
     "user": {
      "displayName": "Lauraine Munkanta",
      "userId": "06811698983110611137"
     },
     "user_tz": -60
    },
    "id": "c8c48d4c",
    "scrolled": true
   },
   "outputs": [
    {
     "name": "stdout",
     "output_type": "stream",
     "text": [
      "Suggested Predictive Model is: \n",
      "\n"
     ]
    },
    {
     "data": {
      "text/plain": [
       "GradientBoostingClassifier(learning_rate=0.5, max_depth=5, n_estimators=150)"
      ]
     },
     "metadata": {},
     "output_type": "display_data"
    },
    {
     "name": "stdout",
     "output_type": "stream",
     "text": [
      "\n",
      " Classification Report: \n",
      "              precision    recall  f1-score   support\n",
      "\n",
      "         1.0       1.00      1.00      1.00      1087\n",
      "         2.0       1.00      1.00      1.00       295\n",
      "         3.0       1.00      1.00      1.00       386\n",
      "         4.0       1.00      1.00      1.00       396\n",
      "         5.0       1.00      1.00      1.00       840\n",
      "\n",
      "    accuracy                           1.00      3004\n",
      "   macro avg       1.00      1.00      1.00      3004\n",
      "weighted avg       1.00      1.00      1.00      3004\n",
      "\n",
      "============================================================================================\n",
      "\n",
      "  G-mean 1.00     Accuracy 1.00       F1 1.00      Product 1.000\n"
     ]
    }
   ],
   "source": [
    "#The big train dataset to balance the dataset (train plus validation) before the model is fit on the Gradient Boosting Classifier.\n",
    "x_big_resampled, y_big_resampled = SMOTE().fit_resample(x_train_big, y_train_big)\n",
    "\n",
    "model = GradientBoostingClassifier(n_estimators=best_hyper_params[0], learning_rate=best_hyper_params[1], max_depth=best_hyper_params[2])\n",
    "print(\"Suggested Predictive Model is: \\n\")\n",
    "display(model)\n",
    "\n",
    "#Training model with SMOTE on the big train dataset\n",
    "gbs_model = model.fit(x_big_resampled, y_big_resampled)\n",
    "\n",
    "#The x test is used to predict the y predicted value\n",
    "y_pred = model.predict(x_test)\n",
    "\n",
    "#Prints out the classification report with evaluation metrics\n",
    "print(\"\\n Classification Report: \")\n",
    "print(classification_report(y_test, y_pred))\n",
    "print(\"============================================================================================\")\n",
    "gms = geometric_mean_score(y_test, y_pred)\n",
    "acc = accuracy_score(y_test, y_pred)\n",
    "f1 = f1_score(y_test, y_pred, average=\"weighted\")\n",
    "prod = product_score(y_test, y_pred)\n",
    "\n",
    "print(\"\\n  G-mean {:.2f}     Accuracy {:.2f}       F1 {:.2f}      Product {:.3f}\". format(gms, acc, f1, prod))"
   ]
  },
  {
   "cell_type": "code",
   "execution_count": 109,
   "id": "112ccefa",
   "metadata": {
    "executionInfo": {
     "elapsed": 15,
     "status": "aborted",
     "timestamp": 1702839706584,
     "user": {
      "displayName": "Lauraine Munkanta",
      "userId": "06811698983110611137"
     },
     "user_tz": -60
    },
    "id": "112ccefa",
    "scrolled": false
   },
   "outputs": [
    {
     "data": {
      "text/plain": [
       "<sklearn.metrics._plot.confusion_matrix.ConfusionMatrixDisplay at 0x2b3ab0899d0>"
      ]
     },
     "execution_count": 109,
     "metadata": {},
     "output_type": "execute_result"
    },
    {
     "data": {
      "image/png": "[encoded data removed]",
      "text/plain": [
       "<Figure size 640x480 with 2 Axes>"
      ]
     },
     "metadata": {},
     "output_type": "display_data"
    }
   ],
   "source": [
    "#Illustrates the actual number of occurences of each class label in the confusion matrix\n",
    "#Uses the actual y_test and predicted y_pred with five classes\n",
    "cm = confusion_matrix(y_test, y_pred, labels=[1, 2, 3, 4, 5])\n",
    "\n",
    "#Creates a ConfusionMatrixDisplay object and plot the confusion matrix\n",
    "ConfusionMatrixDisplay(cm).plot()"
   ]
  },
  {
   "cell_type": "markdown",
   "id": "8e3c0892",
   "metadata": {},
   "source": [
    "Based on the confusion metrics conducted, rating value 1 had the highest number occurences with 1,087 and rating value 5 had the second highest number of occurences with 840. This indicates that the Restaurants might want to work on improving their services and menu to increase their ratings considering that the number of negative reviews is higher than the positive reviews given by customers."
   ]
  },
  {
   "cell_type": "markdown",
   "id": "1190cb71",
   "metadata": {
    "id": "1190cb71"
   },
   "source": [
    "## Feature Importance Analysis"
   ]
  },
  {
   "cell_type": "markdown",
   "id": "73de02c5",
   "metadata": {},
   "source": [
    "Feature importance is a measure of how valuable each feature is in the construction of the boosted decision trees. It is determined by the extent to which each feature improves the model's performance, weighted by the number of observations affected by the feature's split point. \n",
    "\n",
    "This stage seeks to gain insights into which feature (terms in the text data) contribute the most to the model's predictions. The horizontal bar chart provides a clear visualization of the relative importance of each feature. Based on the below findings, \"aa\" is the most important feature in this corpus.\n"
   ]
  },
  {
   "cell_type": "code",
   "execution_count": 107,
   "id": "56245cfa",
   "metadata": {
    "executionInfo": {
     "elapsed": 15,
     "status": "aborted",
     "timestamp": 1702839706585,
     "user": {
      "displayName": "Lauraine Munkanta",
      "userId": "06811698983110611137"
     },
     "user_tz": -60
    },
    "id": "56245cfa"
   },
   "outputs": [
    {
     "name": "stdout",
     "output_type": "stream",
     "text": [
      "Top 15 Important features:\n",
      "[1. 0. 0. ... 0. 0. 0.]\n"
     ]
    },
    {
     "data": {
      "text/plain": [
       "<AxesSubplot:>"
      ]
     },
     "execution_count": 107,
     "metadata": {},
     "output_type": "execute_result"
    },
    {
     "data": {
      "image/png": "[encoded data removed]",
      "text/plain": [
       "<Figure size 1000x500 with 1 Axes>"
      ]
     },
     "metadata": {},
     "output_type": "display_data"
    }
   ],
   "source": [
    "#Sets the number of top features to display\n",
    "Top_N = 15\n",
    "\n",
    "#Gets feature names from the TF-IDF model\n",
    "feature_names = tfidf_model.get_feature_names_out()\n",
    "\n",
    "#Prints a header indicating the top N important features\n",
    "print(\"Top\", Top_N, \"Important features:\")\n",
    "feature_importance = model.feature_importances_\n",
    "print(model.feature_importances_)\n",
    "\n",
    "#Creates a dictionary by zipping the feature names and their corresponding importances\n",
    "feat_importance_dict = dict(zip(feature_names, feature_importance))\n",
    "\n",
    "#Creates a Pandas Series from the dictionary for easier handling and visualization\n",
    "feat_importance = pd.Series(feat_importance_dict)\n",
    "\n",
    "#Selects the top N features based on their importance\n",
    "feat_importance = feat_importance.nlargest(Top_N)\n",
    "\n",
    "#Plots a horizontal bar chart of the top N important features\n",
    "feat_importance.plot(kind=\"barh\", figsize=(10, 5))"
   ]
  },
  {
   "cell_type": "markdown",
   "id": "tad-jKJvtcW7",
   "metadata": {
    "id": "tad-jKJvtcW7"
   },
   "source": [
    "## Conclusion"
   ]
  },
  {
   "cell_type": "markdown",
   "id": "85b551c1",
   "metadata": {},
   "source": [
    "The dataset was cleaned and preprocessed, then feature contruction and balancing of the imbalanced dataset, model building using several classification algorithms, using grid search to find the best hyperparameters for the selected model algorithm and applying the selected model and hyperparameters to the test dataset to evaluate the new model. The pipeline had a perfect score in most of the evaluation metrics. \n",
    "\n",
    "Despite the pipeline having perfect scores in evaluation metrics, there could be some potential disadvantages and limitations:  \n",
    "\n",
    "* Overfitting - Perfect scores might be an indication of overfitting. The model has learned the training data too well and fails to generalize to new, unseen data. This may lead to the pipeline capturing noise in the training set, leading to poor performance on real-world data.\n",
    "\n",
    "* Imbalanced classes - Perfect scores can be misleading, especially in the presence of imbalanced classes. If one class significantly dominates the dataset, a model might achieve high accuracy by simply predicting the majority class without truly learning the underlying patterns in the data.\n",
    "\n",
    "* Data leakage - Perfect scores could  be a sign of unintentional data leakage, where information from the test set influences the model during training. \n",
    "\n",
    "* Limited Generalization - The model might not generalize well to new, unseen data. \n",
    "\n",
    "* Inadequate Evaluation -  Perfect scores may not reflect the true performance of the model. \n",
    "\n",
    "* Failure to Identify Model Limitations -  The model may perform exceptionally well on one dataset may fail to generalize to different distributions, and perfect scores may mask its weaknesses.\n"
   ]
  },
  {
   "attachments": {},
   "cell_type": "markdown",
   "id": "68bcad9b",
   "metadata": {},
   "source": []
  }
 ],
 "metadata": {
  "accelerator": "GPU",
  "colab": {
   "gpuType": "T4",
   "provenance": []
  },
  "kernelspec": {
   "display_name": "Python 3 (ipykernel)",
   "language": "python",
   "name": "python3"
  },
  "language_info": {
   "codemirror_mode": {
    "name": "ipython",
    "version": 3
   },
   "file_extension": ".py",
   "mimetype": "text/x-python",
   "name": "python",
   "nbconvert_exporter": "python",
   "pygments_lexer": "ipython3",
   "version": "3.9.13"
  }
 },
 "nbformat": 4,
 "nbformat_minor": 5
}
