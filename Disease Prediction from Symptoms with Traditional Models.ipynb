{
  "cells": [
    {
      "cell_type": "markdown",
      "metadata": {
        "id": "TSwJxr52aLby"
      },
      "source": [
        "##1. Defining the Business Problem - Disease Prediction from Symptoms"
      ]
    },
    {
      "cell_type": "markdown",
      "metadata": {
        "id": "Vm1neulgaXhf"
      },
      "source": [
        "Health care and medical provision is one of the most vital fields in human existence as people need to be well-conditioned physically, mentally, and emotionally to effectively contribute to the promotion of society and economic development. One of the challenges currently being faced in the medical field among several is the delay in diagnosis of diseases. This due to several reasons some of which may include inadequate health practitioners with the growing number of patients and the population.\n",
        "In July 2023, the National Health Service (NHS) in England conducted a statistical study to give a summary of their operation system pre and post COVID-19. According to the study, it was highlighted that between 2014 and 2017 the performance level of the diagnosis waiting time was consistently between 1% and 2% of patients waiting over 6 weeks. However, between 2018 and early 2020 the diagnostic waiting period increased to 4.4% of patients waiting over 6 weeks. During the COVID-19 pandemic, diagnosis waiting times substantially increased to a peak of 58.5% of patients waiting over 6 weeks in May 2020. In May 2021, the proportion fell to 22.1% and unfortunately as of January 2023, 30.8% of the patients were waiting longer than 6 weeks. Based of this snippet of diagnostic statistics of the NHS England, it gives an overview of the importance of developing business solutions to counter this challenge of delay in diagnosis delivery.  \n",
        "\n",
        "\n",
        "This assessment seeks to train a machine learning model that will efficiently predict the diagnosis of a patient having a particular disease based on the different range of symptoms (that will be labeled as features)."
      ]
    },
    {
      "cell_type": "markdown",
      "metadata": {
        "id": "F0pSH-APmH0F"
      },
      "source": [
        "##2. Data Collection"
      ]
    },
    {
      "cell_type": "markdown",
      "metadata": {
        "id": "R8qn31E0mP1K"
      },
      "source": [
        "To train and implement this model, a dataset was collected from https://www.kaggle.com/datasets/uom190346a/disease-symptoms-and-patient-profile-dataset?resource=download.\n",
        "\n"
      ]
    },
    {
      "cell_type": "markdown",
      "metadata": {
        "id": "R0GLqkglmmEx"
      },
      "source": [
        "##3. Importing Libraries"
      ]
    },
    {
      "cell_type": "markdown",
      "metadata": {
        "id": "dfmgDFg5oqP2"
      },
      "source": [
        "Code below imports all necessary libraries needed to run this pipeline."
      ]
    },
    {
      "cell_type": "code",
      "execution_count": 43,
      "metadata": {
        "id": "rk1HUYgAaKhF"
      },
      "outputs": [],
      "source": [
        "import pandas as pd\n",
        "import numpy as np\n",
        "import sklearn.model_selection\n",
        "import sklearn.preprocessing\n",
        "import sklearn.linear_model\n",
        "import sklearn.svm\n",
        "import sklearn.tree\n",
        "import sklearn.naive_bayes\n",
        "import sklearn.neighbors\n",
        "import sklearn.metrics\n",
        "import imblearn.over_sampling\n",
        "import sklearn.decomposition\n"
      ]
    },
    {
      "cell_type": "markdown",
      "metadata": {
        "id": "WWoRJMKzmy59"
      },
      "source": [
        "##4. Loading the Dataset"
      ]
    },
    {
      "cell_type": "markdown",
      "metadata": {
        "id": "KFVhATOsow9G"
      },
      "source": [
        "Loads the dataset with the csv file and visualizes the first five rows of the table."
      ]
    },
    {
      "cell_type": "code",
      "execution_count": 26,
      "metadata": {
        "colab": {
          "base_uri": "https://localhost:8080/",
          "height": 206
        },
        "id": "tS-mop8Piq53",
        "outputId": "6513da2b-4e07-4e5e-8ef9-b2920a368488"
      },
      "outputs": [
        {
          "output_type": "execute_result",
          "data": {
            "text/plain": [
              "       Disease Fever Cough Fatigue Difficulty Breathing  Age  Gender  \\\n",
              "0    Influenza   Yes    No     Yes                  Yes   19  Female   \n",
              "1  Common Cold    No   Yes     Yes                   No   25  Female   \n",
              "2       Eczema    No   Yes     Yes                   No   25  Female   \n",
              "3       Asthma   Yes   Yes      No                  Yes   25    Male   \n",
              "4       Asthma   Yes   Yes      No                  Yes   25    Male   \n",
              "\n",
              "  Blood Pressure Cholesterol Level Outcome Variable  \n",
              "0            Low            Normal         Positive  \n",
              "1         Normal            Normal         Negative  \n",
              "2         Normal            Normal         Negative  \n",
              "3         Normal            Normal         Positive  \n",
              "4         Normal            Normal         Positive  "
            ],
            "text/html": [
              "\n",
              "  <div id=\"df-f6229720-61ec-49c2-976e-a6066c70f3e3\" class=\"colab-df-container\">\n",
              "    <div>\n",
              "<style scoped>\n",
              "    .dataframe tbody tr th:only-of-type {\n",
              "        vertical-align: middle;\n",
              "    }\n",
              "\n",
              "    .dataframe tbody tr th {\n",
              "        vertical-align: top;\n",
              "    }\n",
              "\n",
              "    .dataframe thead th {\n",
              "        text-align: right;\n",
              "    }\n",
              "</style>\n",
              "<table border=\"1\" class=\"dataframe\">\n",
              "  <thead>\n",
              "    <tr style=\"text-align: right;\">\n",
              "      <th></th>\n",
              "      <th>Disease</th>\n",
              "      <th>Fever</th>\n",
              "      <th>Cough</th>\n",
              "      <th>Fatigue</th>\n",
              "      <th>Difficulty Breathing</th>\n",
              "      <th>Age</th>\n",
              "      <th>Gender</th>\n",
              "      <th>Blood Pressure</th>\n",
              "      <th>Cholesterol Level</th>\n",
              "      <th>Outcome Variable</th>\n",
              "    </tr>\n",
              "  </thead>\n",
              "  <tbody>\n",
              "    <tr>\n",
              "      <th>0</th>\n",
              "      <td>Influenza</td>\n",
              "      <td>Yes</td>\n",
              "      <td>No</td>\n",
              "      <td>Yes</td>\n",
              "      <td>Yes</td>\n",
              "      <td>19</td>\n",
              "      <td>Female</td>\n",
              "      <td>Low</td>\n",
              "      <td>Normal</td>\n",
              "      <td>Positive</td>\n",
              "    </tr>\n",
              "    <tr>\n",
              "      <th>1</th>\n",
              "      <td>Common Cold</td>\n",
              "      <td>No</td>\n",
              "      <td>Yes</td>\n",
              "      <td>Yes</td>\n",
              "      <td>No</td>\n",
              "      <td>25</td>\n",
              "      <td>Female</td>\n",
              "      <td>Normal</td>\n",
              "      <td>Normal</td>\n",
              "      <td>Negative</td>\n",
              "    </tr>\n",
              "    <tr>\n",
              "      <th>2</th>\n",
              "      <td>Eczema</td>\n",
              "      <td>No</td>\n",
              "      <td>Yes</td>\n",
              "      <td>Yes</td>\n",
              "      <td>No</td>\n",
              "      <td>25</td>\n",
              "      <td>Female</td>\n",
              "      <td>Normal</td>\n",
              "      <td>Normal</td>\n",
              "      <td>Negative</td>\n",
              "    </tr>\n",
              "    <tr>\n",
              "      <th>3</th>\n",
              "      <td>Asthma</td>\n",
              "      <td>Yes</td>\n",
              "      <td>Yes</td>\n",
              "      <td>No</td>\n",
              "      <td>Yes</td>\n",
              "      <td>25</td>\n",
              "      <td>Male</td>\n",
              "      <td>Normal</td>\n",
              "      <td>Normal</td>\n",
              "      <td>Positive</td>\n",
              "    </tr>\n",
              "    <tr>\n",
              "      <th>4</th>\n",
              "      <td>Asthma</td>\n",
              "      <td>Yes</td>\n",
              "      <td>Yes</td>\n",
              "      <td>No</td>\n",
              "      <td>Yes</td>\n",
              "      <td>25</td>\n",
              "      <td>Male</td>\n",
              "      <td>Normal</td>\n",
              "      <td>Normal</td>\n",
              "      <td>Positive</td>\n",
              "    </tr>\n",
              "  </tbody>\n",
              "</table>\n",
              "</div>\n",
              "    <div class=\"colab-df-buttons\">\n",
              "\n",
              "  <div class=\"colab-df-container\">\n",
              "    <button class=\"colab-df-convert\" onclick=\"convertToInteractive('df-f6229720-61ec-49c2-976e-a6066c70f3e3')\"\n",
              "            title=\"Convert this dataframe to an interactive table.\"\n",
              "            style=\"display:none;\">\n",
              "\n",
              "  <svg xmlns=\"http://www.w3.org/2000/svg\" height=\"24px\" viewBox=\"0 -960 960 960\">\n",
              "    <path d=\"M120-120v-720h720v720H120Zm60-500h600v-160H180v160Zm220 220h160v-160H400v160Zm0 220h160v-160H400v160ZM180-400h160v-160H180v160Zm440 0h160v-160H620v160ZM180-180h160v-160H180v160Zm440 0h160v-160H620v160Z\"/>\n",
              "  </svg>\n",
              "    </button>\n",
              "\n",
              "  <style>\n",
              "    .colab-df-container {\n",
              "      display:flex;\n",
              "      gap: 12px;\n",
              "    }\n",
              "\n",
              "    .colab-df-convert {\n",
              "      background-color: #E8F0FE;\n",
              "      border: none;\n",
              "      border-radius: 50%;\n",
              "      cursor: pointer;\n",
              "      display: none;\n",
              "      fill: #1967D2;\n",
              "      height: 32px;\n",
              "      padding: 0 0 0 0;\n",
              "      width: 32px;\n",
              "    }\n",
              "\n",
              "    .colab-df-convert:hover {\n",
              "      background-color: #E2EBFA;\n",
              "      box-shadow: 0px 1px 2px rgba(60, 64, 67, 0.3), 0px 1px 3px 1px rgba(60, 64, 67, 0.15);\n",
              "      fill: #174EA6;\n",
              "    }\n",
              "\n",
              "    .colab-df-buttons div {\n",
              "      margin-bottom: 4px;\n",
              "    }\n",
              "\n",
              "    [theme=dark] .colab-df-convert {\n",
              "      background-color: #3B4455;\n",
              "      fill: #D2E3FC;\n",
              "    }\n",
              "\n",
              "    [theme=dark] .colab-df-convert:hover {\n",
              "      background-color: #434B5C;\n",
              "      box-shadow: 0px 1px 3px 1px rgba(0, 0, 0, 0.15);\n",
              "      filter: drop-shadow(0px 1px 2px rgba(0, 0, 0, 0.3));\n",
              "      fill: #FFFFFF;\n",
              "    }\n",
              "  </style>\n",
              "\n",
              "    <script>\n",
              "      const buttonEl =\n",
              "        document.querySelector('#df-f6229720-61ec-49c2-976e-a6066c70f3e3 button.colab-df-convert');\n",
              "      buttonEl.style.display =\n",
              "        google.colab.kernel.accessAllowed ? 'block' : 'none';\n",
              "\n",
              "      async function convertToInteractive(key) {\n",
              "        const element = document.querySelector('#df-f6229720-61ec-49c2-976e-a6066c70f3e3');\n",
              "        const dataTable =\n",
              "          await google.colab.kernel.invokeFunction('convertToInteractive',\n",
              "                                                    [key], {});\n",
              "        if (!dataTable) return;\n",
              "\n",
              "        const docLinkHtml = 'Like what you see? Visit the ' +\n",
              "          '<a target=\"_blank\" href=https://colab.research.google.com/notebooks/data_table.ipynb>data table notebook</a>'\n",
              "          + ' to learn more about interactive tables.';\n",
              "        element.innerHTML = '';\n",
              "        dataTable['output_type'] = 'display_data';\n",
              "        await google.colab.output.renderOutput(dataTable, element);\n",
              "        const docLink = document.createElement('div');\n",
              "        docLink.innerHTML = docLinkHtml;\n",
              "        element.appendChild(docLink);\n",
              "      }\n",
              "    </script>\n",
              "  </div>\n",
              "\n",
              "\n",
              "<div id=\"df-9fa55794-8faa-492d-9f2f-0748ef1083cd\">\n",
              "  <button class=\"colab-df-quickchart\" onclick=\"quickchart('df-9fa55794-8faa-492d-9f2f-0748ef1083cd')\"\n",
              "            title=\"Suggest charts\"\n",
              "            style=\"display:none;\">\n",
              "\n",
              "<svg xmlns=\"http://www.w3.org/2000/svg\" height=\"24px\"viewBox=\"0 0 24 24\"\n",
              "     width=\"24px\">\n",
              "    <g>\n",
              "        <path d=\"M19 3H5c-1.1 0-2 .9-2 2v14c0 1.1.9 2 2 2h14c1.1 0 2-.9 2-2V5c0-1.1-.9-2-2-2zM9 17H7v-7h2v7zm4 0h-2V7h2v10zm4 0h-2v-4h2v4z\"/>\n",
              "    </g>\n",
              "</svg>\n",
              "  </button>\n",
              "\n",
              "<style>\n",
              "  .colab-df-quickchart {\n",
              "      --bg-color: #E8F0FE;\n",
              "      --fill-color: #1967D2;\n",
              "      --hover-bg-color: #E2EBFA;\n",
              "      --hover-fill-color: #174EA6;\n",
              "      --disabled-fill-color: #AAA;\n",
              "      --disabled-bg-color: #DDD;\n",
              "  }\n",
              "\n",
              "  [theme=dark] .colab-df-quickchart {\n",
              "      --bg-color: #3B4455;\n",
              "      --fill-color: #D2E3FC;\n",
              "      --hover-bg-color: #434B5C;\n",
              "      --hover-fill-color: #FFFFFF;\n",
              "      --disabled-bg-color: #3B4455;\n",
              "      --disabled-fill-color: #666;\n",
              "  }\n",
              "\n",
              "  .colab-df-quickchart {\n",
              "    background-color: var(--bg-color);\n",
              "    border: none;\n",
              "    border-radius: 50%;\n",
              "    cursor: pointer;\n",
              "    display: none;\n",
              "    fill: var(--fill-color);\n",
              "    height: 32px;\n",
              "    padding: 0;\n",
              "    width: 32px;\n",
              "  }\n",
              "\n",
              "  .colab-df-quickchart:hover {\n",
              "    background-color: var(--hover-bg-color);\n",
              "    box-shadow: 0 1px 2px rgba(60, 64, 67, 0.3), 0 1px 3px 1px rgba(60, 64, 67, 0.15);\n",
              "    fill: var(--button-hover-fill-color);\n",
              "  }\n",
              "\n",
              "  .colab-df-quickchart-complete:disabled,\n",
              "  .colab-df-quickchart-complete:disabled:hover {\n",
              "    background-color: var(--disabled-bg-color);\n",
              "    fill: var(--disabled-fill-color);\n",
              "    box-shadow: none;\n",
              "  }\n",
              "\n",
              "  .colab-df-spinner {\n",
              "    border: 2px solid var(--fill-color);\n",
              "    border-color: transparent;\n",
              "    border-bottom-color: var(--fill-color);\n",
              "    animation:\n",
              "      spin 1s steps(1) infinite;\n",
              "  }\n",
              "\n",
              "  @keyframes spin {\n",
              "    0% {\n",
              "      border-color: transparent;\n",
              "      border-bottom-color: var(--fill-color);\n",
              "      border-left-color: var(--fill-color);\n",
              "    }\n",
              "    20% {\n",
              "      border-color: transparent;\n",
              "      border-left-color: var(--fill-color);\n",
              "      border-top-color: var(--fill-color);\n",
              "    }\n",
              "    30% {\n",
              "      border-color: transparent;\n",
              "      border-left-color: var(--fill-color);\n",
              "      border-top-color: var(--fill-color);\n",
              "      border-right-color: var(--fill-color);\n",
              "    }\n",
              "    40% {\n",
              "      border-color: transparent;\n",
              "      border-right-color: var(--fill-color);\n",
              "      border-top-color: var(--fill-color);\n",
              "    }\n",
              "    60% {\n",
              "      border-color: transparent;\n",
              "      border-right-color: var(--fill-color);\n",
              "    }\n",
              "    80% {\n",
              "      border-color: transparent;\n",
              "      border-right-color: var(--fill-color);\n",
              "      border-bottom-color: var(--fill-color);\n",
              "    }\n",
              "    90% {\n",
              "      border-color: transparent;\n",
              "      border-bottom-color: var(--fill-color);\n",
              "    }\n",
              "  }\n",
              "</style>\n",
              "\n",
              "  <script>\n",
              "    async function quickchart(key) {\n",
              "      const quickchartButtonEl =\n",
              "        document.querySelector('#' + key + ' button');\n",
              "      quickchartButtonEl.disabled = true;  // To prevent multiple clicks.\n",
              "      quickchartButtonEl.classList.add('colab-df-spinner');\n",
              "      try {\n",
              "        const charts = await google.colab.kernel.invokeFunction(\n",
              "            'suggestCharts', [key], {});\n",
              "      } catch (error) {\n",
              "        console.error('Error during call to suggestCharts:', error);\n",
              "      }\n",
              "      quickchartButtonEl.classList.remove('colab-df-spinner');\n",
              "      quickchartButtonEl.classList.add('colab-df-quickchart-complete');\n",
              "    }\n",
              "    (() => {\n",
              "      let quickchartButtonEl =\n",
              "        document.querySelector('#df-9fa55794-8faa-492d-9f2f-0748ef1083cd button');\n",
              "      quickchartButtonEl.style.display =\n",
              "        google.colab.kernel.accessAllowed ? 'block' : 'none';\n",
              "    })();\n",
              "  </script>\n",
              "</div>\n",
              "    </div>\n",
              "  </div>\n"
            ]
          },
          "metadata": {},
          "execution_count": 26
        }
      ],
      "source": [
        "df = pd.read_csv(\"Disease_symptom_and_patient_profile_dataset.csv\")\n",
        "df.head()"
      ]
    },
    {
      "cell_type": "markdown",
      "metadata": {
        "id": "MoyshoOEnPPJ"
      },
      "source": [
        "##5. Splitting the Dataset into Training and Testing Data"
      ]
    },
    {
      "cell_type": "markdown",
      "metadata": {
        "id": "jgfkAPMoo3mi"
      },
      "source": [
        "The below code splits the dataset into training and testing data before any manipulation to avoid data leakage."
      ]
    },
    {
      "cell_type": "code",
      "execution_count": 27,
      "metadata": {
        "colab": {
          "base_uri": "https://localhost:8080/"
        },
        "id": "9CnwT6mjmU0o",
        "outputId": "19995a2e-ca5c-4f27-feea-8c8be5465874"
      },
      "outputs": [
        {
          "output_type": "stream",
          "name": "stdout",
          "text": [
            "df size: (349, 10)\n",
            "df_train size: (251, 10)\n",
            "df_test size: (53, 10)\n"
          ]
        }
      ],
      "source": [
        "df_train, df_test = sklearn.model_selection.train_test_split(df, test_size=0.15, random_state=42)\n",
        "df_train, df_val = sklearn.model_selection.train_test_split(df_train, test_size=0.15, random_state=42)\n",
        "\n",
        "print(\"df size:\", df.shape)\n",
        "print(\"df_train size:\", df_train.shape)\n",
        "print(\"df_test size:\", df_test.shape)"
      ]
    },
    {
      "cell_type": "markdown",
      "metadata": {
        "id": "kPxQlPbqm6z6"
      },
      "source": [
        "##6. Data Exploration"
      ]
    },
    {
      "cell_type": "markdown",
      "metadata": {
        "id": "Js_UjTPVpYGV"
      },
      "source": [
        "The data exploration conducted highlighted that there was no missing value, or outliers in the dataset. The sum of the missing values for each feature was zero.\n",
        "\n",
        "The length of the target variable was run to check for the total count of uniques values present (Two Unique values were present).\n",
        "\n",
        "The below code simply shows the Non-null count and data type for each feature column including the target label."
      ]
    },
    {
      "cell_type": "code",
      "execution_count": 28,
      "metadata": {
        "colab": {
          "base_uri": "https://localhost:8080/"
        },
        "id": "CIj3Pe9eu2hz",
        "outputId": "88ed5dd1-aab1-4d0e-ca49-656732ba238e"
      },
      "outputs": [
        {
          "output_type": "stream",
          "name": "stdout",
          "text": [
            "<class 'pandas.core.frame.DataFrame'>\n",
            "Int64Index: 251 entries, 303 to 289\n",
            "Data columns (total 10 columns):\n",
            " #   Column                Non-Null Count  Dtype \n",
            "---  ------                --------------  ----- \n",
            " 0   Disease               251 non-null    object\n",
            " 1   Fever                 251 non-null    object\n",
            " 2   Cough                 251 non-null    object\n",
            " 3   Fatigue               251 non-null    object\n",
            " 4   Difficulty Breathing  251 non-null    object\n",
            " 5   Age                   251 non-null    int64 \n",
            " 6   Gender                251 non-null    object\n",
            " 7   Blood Pressure        251 non-null    object\n",
            " 8   Cholesterol Level     251 non-null    object\n",
            " 9   Outcome Variable      251 non-null    object\n",
            "dtypes: int64(1), object(9)\n",
            "memory usage: 21.6+ KB\n"
          ]
        }
      ],
      "source": [
        "df_train.info()"
      ]
    },
    {
      "cell_type": "markdown",
      "metadata": {
        "id": "oWqJtbNppaLZ"
      },
      "source": [
        "The number of data points under each label in the prognosis column."
      ]
    },
    {
      "cell_type": "code",
      "execution_count": 29,
      "metadata": {
        "colab": {
          "base_uri": "https://localhost:8080/"
        },
        "id": "r8728MqevxFG",
        "outputId": "91bd7b97-71d9-40d3-b2dd-40eda17744b7"
      },
      "outputs": [
        {
          "output_type": "execute_result",
          "data": {
            "text/plain": [
              "Positive    127\n",
              "Negative    124\n",
              "Name: Outcome Variable, dtype: int64"
            ]
          },
          "metadata": {},
          "execution_count": 29
        }
      ],
      "source": [
        "df_train[\"Outcome Variable\"].value_counts()"
      ]
    },
    {
      "cell_type": "markdown",
      "metadata": {
        "id": "pVM_bTiPnEdI"
      },
      "source": [
        "##7. Data Pre-processing"
      ]
    },
    {
      "cell_type": "markdown",
      "metadata": {
        "id": "lvEBQ1jfo-0d"
      },
      "source": [
        "The code below seeks to define the x and y variables (x variables - features and y variable - target label). Drops the \"Outcome Variable\" column from the X variable as it is the target label.\n"
      ]
    },
    {
      "cell_type": "code",
      "execution_count": 30,
      "metadata": {
        "colab": {
          "base_uri": "https://localhost:8080/"
        },
        "id": "GdfDym8nxIvh",
        "outputId": "07041dda-51b6-4a07-9283-eaf5b4c7f4e9"
      },
      "outputs": [
        {
          "output_type": "stream",
          "name": "stdout",
          "text": [
            "df: (349, 10)\n",
            "x_train: (251, 9)\n",
            "x_val: (45, 9)\n",
            "x_test: (53, 9)\n",
            "y_train: (251,)\n",
            "y_val: (45,)\n",
            "y_test: (53,)\n"
          ]
        }
      ],
      "source": [
        "x_train = df_train.drop([\"Outcome Variable\"], axis = 1)\n",
        "y_train = df_train[\"Outcome Variable\"]\n",
        "\n",
        "x_val = df_val.drop([\"Outcome Variable\"], axis = 1)\n",
        "y_val = df_val[\"Outcome Variable\"]\n",
        "\n",
        "\n",
        "x_test = df_test.drop([\"Outcome Variable\"], axis = 1)\n",
        "y_test = df_test[\"Outcome Variable\"]\n",
        "\n",
        "print('df:', df.shape)\n",
        "print('x_train:', x_train.shape)\n",
        "print('x_val:', x_val.shape)\n",
        "print('x_test:', x_test.shape)\n",
        "print('y_train:', y_train.shape)\n",
        "print('y_val:', y_val.shape)\n",
        "print('y_test:', y_test.shape)"
      ]
    },
    {
      "cell_type": "markdown",
      "metadata": {
        "id": "KUhdTSrPnIS9"
      },
      "source": [
        "##8. Feature Engineering"
      ]
    },
    {
      "cell_type": "markdown",
      "metadata": {
        "id": "ov1_hZsWn2zL"
      },
      "source": [
        "This aims to transform raw data into a trainable dataset. Based on the data exploration, some feature columns should be encoded from categorical to numerical features.\n",
        "\n",
        "The One-Hot Encoder will be used as it encodes nominal categorical features to one hot numeric array. This transforms categorical features to numerical features.\n",
        "\n",
        "Hyperparameter \"handel_unknown=ignore\", sets unknown categories to a one hot encoded column for a feature equal to zero, when a new category is encountered."
      ]
    },
    {
      "cell_type": "markdown",
      "metadata": {
        "id": "BK4TUSOL6oM-"
      },
      "source": [
        "###i) One Hot Encoding\n"
      ]
    },
    {
      "cell_type": "code",
      "source": [
        "df.head()"
      ],
      "metadata": {
        "colab": {
          "base_uri": "https://localhost:8080/",
          "height": 206
        },
        "id": "KrxAfh8E22TC",
        "outputId": "2cb5fdb2-0837-4e85-9360-74e8bf3b37f7"
      },
      "execution_count": 36,
      "outputs": [
        {
          "output_type": "execute_result",
          "data": {
            "text/plain": [
              "       Disease Fever Cough Fatigue Difficulty Breathing  Age  Gender  \\\n",
              "0    Influenza   Yes    No     Yes                  Yes   19  Female   \n",
              "1  Common Cold    No   Yes     Yes                   No   25  Female   \n",
              "2       Eczema    No   Yes     Yes                   No   25  Female   \n",
              "3       Asthma   Yes   Yes      No                  Yes   25    Male   \n",
              "4       Asthma   Yes   Yes      No                  Yes   25    Male   \n",
              "\n",
              "  Blood Pressure Cholesterol Level Outcome Variable  \n",
              "0            Low            Normal         Positive  \n",
              "1         Normal            Normal         Negative  \n",
              "2         Normal            Normal         Negative  \n",
              "3         Normal            Normal         Positive  \n",
              "4         Normal            Normal         Positive  "
            ],
            "text/html": [
              "\n",
              "  <div id=\"df-52faef05-9eaa-492a-8def-a9ccdb71bcee\" class=\"colab-df-container\">\n",
              "    <div>\n",
              "<style scoped>\n",
              "    .dataframe tbody tr th:only-of-type {\n",
              "        vertical-align: middle;\n",
              "    }\n",
              "\n",
              "    .dataframe tbody tr th {\n",
              "        vertical-align: top;\n",
              "    }\n",
              "\n",
              "    .dataframe thead th {\n",
              "        text-align: right;\n",
              "    }\n",
              "</style>\n",
              "<table border=\"1\" class=\"dataframe\">\n",
              "  <thead>\n",
              "    <tr style=\"text-align: right;\">\n",
              "      <th></th>\n",
              "      <th>Disease</th>\n",
              "      <th>Fever</th>\n",
              "      <th>Cough</th>\n",
              "      <th>Fatigue</th>\n",
              "      <th>Difficulty Breathing</th>\n",
              "      <th>Age</th>\n",
              "      <th>Gender</th>\n",
              "      <th>Blood Pressure</th>\n",
              "      <th>Cholesterol Level</th>\n",
              "      <th>Outcome Variable</th>\n",
              "    </tr>\n",
              "  </thead>\n",
              "  <tbody>\n",
              "    <tr>\n",
              "      <th>0</th>\n",
              "      <td>Influenza</td>\n",
              "      <td>Yes</td>\n",
              "      <td>No</td>\n",
              "      <td>Yes</td>\n",
              "      <td>Yes</td>\n",
              "      <td>19</td>\n",
              "      <td>Female</td>\n",
              "      <td>Low</td>\n",
              "      <td>Normal</td>\n",
              "      <td>Positive</td>\n",
              "    </tr>\n",
              "    <tr>\n",
              "      <th>1</th>\n",
              "      <td>Common Cold</td>\n",
              "      <td>No</td>\n",
              "      <td>Yes</td>\n",
              "      <td>Yes</td>\n",
              "      <td>No</td>\n",
              "      <td>25</td>\n",
              "      <td>Female</td>\n",
              "      <td>Normal</td>\n",
              "      <td>Normal</td>\n",
              "      <td>Negative</td>\n",
              "    </tr>\n",
              "    <tr>\n",
              "      <th>2</th>\n",
              "      <td>Eczema</td>\n",
              "      <td>No</td>\n",
              "      <td>Yes</td>\n",
              "      <td>Yes</td>\n",
              "      <td>No</td>\n",
              "      <td>25</td>\n",
              "      <td>Female</td>\n",
              "      <td>Normal</td>\n",
              "      <td>Normal</td>\n",
              "      <td>Negative</td>\n",
              "    </tr>\n",
              "    <tr>\n",
              "      <th>3</th>\n",
              "      <td>Asthma</td>\n",
              "      <td>Yes</td>\n",
              "      <td>Yes</td>\n",
              "      <td>No</td>\n",
              "      <td>Yes</td>\n",
              "      <td>25</td>\n",
              "      <td>Male</td>\n",
              "      <td>Normal</td>\n",
              "      <td>Normal</td>\n",
              "      <td>Positive</td>\n",
              "    </tr>\n",
              "    <tr>\n",
              "      <th>4</th>\n",
              "      <td>Asthma</td>\n",
              "      <td>Yes</td>\n",
              "      <td>Yes</td>\n",
              "      <td>No</td>\n",
              "      <td>Yes</td>\n",
              "      <td>25</td>\n",
              "      <td>Male</td>\n",
              "      <td>Normal</td>\n",
              "      <td>Normal</td>\n",
              "      <td>Positive</td>\n",
              "    </tr>\n",
              "  </tbody>\n",
              "</table>\n",
              "</div>\n",
              "    <div class=\"colab-df-buttons\">\n",
              "\n",
              "  <div class=\"colab-df-container\">\n",
              "    <button class=\"colab-df-convert\" onclick=\"convertToInteractive('df-52faef05-9eaa-492a-8def-a9ccdb71bcee')\"\n",
              "            title=\"Convert this dataframe to an interactive table.\"\n",
              "            style=\"display:none;\">\n",
              "\n",
              "  <svg xmlns=\"http://www.w3.org/2000/svg\" height=\"24px\" viewBox=\"0 -960 960 960\">\n",
              "    <path d=\"M120-120v-720h720v720H120Zm60-500h600v-160H180v160Zm220 220h160v-160H400v160Zm0 220h160v-160H400v160ZM180-400h160v-160H180v160Zm440 0h160v-160H620v160ZM180-180h160v-160H180v160Zm440 0h160v-160H620v160Z\"/>\n",
              "  </svg>\n",
              "    </button>\n",
              "\n",
              "  <style>\n",
              "    .colab-df-container {\n",
              "      display:flex;\n",
              "      gap: 12px;\n",
              "    }\n",
              "\n",
              "    .colab-df-convert {\n",
              "      background-color: #E8F0FE;\n",
              "      border: none;\n",
              "      border-radius: 50%;\n",
              "      cursor: pointer;\n",
              "      display: none;\n",
              "      fill: #1967D2;\n",
              "      height: 32px;\n",
              "      padding: 0 0 0 0;\n",
              "      width: 32px;\n",
              "    }\n",
              "\n",
              "    .colab-df-convert:hover {\n",
              "      background-color: #E2EBFA;\n",
              "      box-shadow: 0px 1px 2px rgba(60, 64, 67, 0.3), 0px 1px 3px 1px rgba(60, 64, 67, 0.15);\n",
              "      fill: #174EA6;\n",
              "    }\n",
              "\n",
              "    .colab-df-buttons div {\n",
              "      margin-bottom: 4px;\n",
              "    }\n",
              "\n",
              "    [theme=dark] .colab-df-convert {\n",
              "      background-color: #3B4455;\n",
              "      fill: #D2E3FC;\n",
              "    }\n",
              "\n",
              "    [theme=dark] .colab-df-convert:hover {\n",
              "      background-color: #434B5C;\n",
              "      box-shadow: 0px 1px 3px 1px rgba(0, 0, 0, 0.15);\n",
              "      filter: drop-shadow(0px 1px 2px rgba(0, 0, 0, 0.3));\n",
              "      fill: #FFFFFF;\n",
              "    }\n",
              "  </style>\n",
              "\n",
              "    <script>\n",
              "      const buttonEl =\n",
              "        document.querySelector('#df-52faef05-9eaa-492a-8def-a9ccdb71bcee button.colab-df-convert');\n",
              "      buttonEl.style.display =\n",
              "        google.colab.kernel.accessAllowed ? 'block' : 'none';\n",
              "\n",
              "      async function convertToInteractive(key) {\n",
              "        const element = document.querySelector('#df-52faef05-9eaa-492a-8def-a9ccdb71bcee');\n",
              "        const dataTable =\n",
              "          await google.colab.kernel.invokeFunction('convertToInteractive',\n",
              "                                                    [key], {});\n",
              "        if (!dataTable) return;\n",
              "\n",
              "        const docLinkHtml = 'Like what you see? Visit the ' +\n",
              "          '<a target=\"_blank\" href=https://colab.research.google.com/notebooks/data_table.ipynb>data table notebook</a>'\n",
              "          + ' to learn more about interactive tables.';\n",
              "        element.innerHTML = '';\n",
              "        dataTable['output_type'] = 'display_data';\n",
              "        await google.colab.output.renderOutput(dataTable, element);\n",
              "        const docLink = document.createElement('div');\n",
              "        docLink.innerHTML = docLinkHtml;\n",
              "        element.appendChild(docLink);\n",
              "      }\n",
              "    </script>\n",
              "  </div>\n",
              "\n",
              "\n",
              "<div id=\"df-ddf4cce4-7ca0-4499-9252-baf902bbdd4d\">\n",
              "  <button class=\"colab-df-quickchart\" onclick=\"quickchart('df-ddf4cce4-7ca0-4499-9252-baf902bbdd4d')\"\n",
              "            title=\"Suggest charts\"\n",
              "            style=\"display:none;\">\n",
              "\n",
              "<svg xmlns=\"http://www.w3.org/2000/svg\" height=\"24px\"viewBox=\"0 0 24 24\"\n",
              "     width=\"24px\">\n",
              "    <g>\n",
              "        <path d=\"M19 3H5c-1.1 0-2 .9-2 2v14c0 1.1.9 2 2 2h14c1.1 0 2-.9 2-2V5c0-1.1-.9-2-2-2zM9 17H7v-7h2v7zm4 0h-2V7h2v10zm4 0h-2v-4h2v4z\"/>\n",
              "    </g>\n",
              "</svg>\n",
              "  </button>\n",
              "\n",
              "<style>\n",
              "  .colab-df-quickchart {\n",
              "      --bg-color: #E8F0FE;\n",
              "      --fill-color: #1967D2;\n",
              "      --hover-bg-color: #E2EBFA;\n",
              "      --hover-fill-color: #174EA6;\n",
              "      --disabled-fill-color: #AAA;\n",
              "      --disabled-bg-color: #DDD;\n",
              "  }\n",
              "\n",
              "  [theme=dark] .colab-df-quickchart {\n",
              "      --bg-color: #3B4455;\n",
              "      --fill-color: #D2E3FC;\n",
              "      --hover-bg-color: #434B5C;\n",
              "      --hover-fill-color: #FFFFFF;\n",
              "      --disabled-bg-color: #3B4455;\n",
              "      --disabled-fill-color: #666;\n",
              "  }\n",
              "\n",
              "  .colab-df-quickchart {\n",
              "    background-color: var(--bg-color);\n",
              "    border: none;\n",
              "    border-radius: 50%;\n",
              "    cursor: pointer;\n",
              "    display: none;\n",
              "    fill: var(--fill-color);\n",
              "    height: 32px;\n",
              "    padding: 0;\n",
              "    width: 32px;\n",
              "  }\n",
              "\n",
              "  .colab-df-quickchart:hover {\n",
              "    background-color: var(--hover-bg-color);\n",
              "    box-shadow: 0 1px 2px rgba(60, 64, 67, 0.3), 0 1px 3px 1px rgba(60, 64, 67, 0.15);\n",
              "    fill: var(--button-hover-fill-color);\n",
              "  }\n",
              "\n",
              "  .colab-df-quickchart-complete:disabled,\n",
              "  .colab-df-quickchart-complete:disabled:hover {\n",
              "    background-color: var(--disabled-bg-color);\n",
              "    fill: var(--disabled-fill-color);\n",
              "    box-shadow: none;\n",
              "  }\n",
              "\n",
              "  .colab-df-spinner {\n",
              "    border: 2px solid var(--fill-color);\n",
              "    border-color: transparent;\n",
              "    border-bottom-color: var(--fill-color);\n",
              "    animation:\n",
              "      spin 1s steps(1) infinite;\n",
              "  }\n",
              "\n",
              "  @keyframes spin {\n",
              "    0% {\n",
              "      border-color: transparent;\n",
              "      border-bottom-color: var(--fill-color);\n",
              "      border-left-color: var(--fill-color);\n",
              "    }\n",
              "    20% {\n",
              "      border-color: transparent;\n",
              "      border-left-color: var(--fill-color);\n",
              "      border-top-color: var(--fill-color);\n",
              "    }\n",
              "    30% {\n",
              "      border-color: transparent;\n",
              "      border-left-color: var(--fill-color);\n",
              "      border-top-color: var(--fill-color);\n",
              "      border-right-color: var(--fill-color);\n",
              "    }\n",
              "    40% {\n",
              "      border-color: transparent;\n",
              "      border-right-color: var(--fill-color);\n",
              "      border-top-color: var(--fill-color);\n",
              "    }\n",
              "    60% {\n",
              "      border-color: transparent;\n",
              "      border-right-color: var(--fill-color);\n",
              "    }\n",
              "    80% {\n",
              "      border-color: transparent;\n",
              "      border-right-color: var(--fill-color);\n",
              "      border-bottom-color: var(--fill-color);\n",
              "    }\n",
              "    90% {\n",
              "      border-color: transparent;\n",
              "      border-bottom-color: var(--fill-color);\n",
              "    }\n",
              "  }\n",
              "</style>\n",
              "\n",
              "  <script>\n",
              "    async function quickchart(key) {\n",
              "      const quickchartButtonEl =\n",
              "        document.querySelector('#' + key + ' button');\n",
              "      quickchartButtonEl.disabled = true;  // To prevent multiple clicks.\n",
              "      quickchartButtonEl.classList.add('colab-df-spinner');\n",
              "      try {\n",
              "        const charts = await google.colab.kernel.invokeFunction(\n",
              "            'suggestCharts', [key], {});\n",
              "      } catch (error) {\n",
              "        console.error('Error during call to suggestCharts:', error);\n",
              "      }\n",
              "      quickchartButtonEl.classList.remove('colab-df-spinner');\n",
              "      quickchartButtonEl.classList.add('colab-df-quickchart-complete');\n",
              "    }\n",
              "    (() => {\n",
              "      let quickchartButtonEl =\n",
              "        document.querySelector('#df-ddf4cce4-7ca0-4499-9252-baf902bbdd4d button');\n",
              "      quickchartButtonEl.style.display =\n",
              "        google.colab.kernel.accessAllowed ? 'block' : 'none';\n",
              "    })();\n",
              "  </script>\n",
              "</div>\n",
              "    </div>\n",
              "  </div>\n"
            ]
          },
          "metadata": {},
          "execution_count": 36
        }
      ]
    },
    {
      "cell_type": "code",
      "execution_count": 49,
      "metadata": {
        "colab": {
          "base_uri": "https://localhost:8080/"
        },
        "id": "HWu3sk1IRhPV",
        "outputId": "e276388b-a275-4c59-8b4f-6a6888311c47"
      },
      "outputs": [
        {
          "output_type": "stream",
          "name": "stdout",
          "text": [
            "x_train size: (251, 132)\n",
            "x_val size: (45, 132)\n",
            "x_test size: (53, 132)\n"
          ]
        }
      ],
      "source": [
        "encoder = sklearn.preprocessing.OneHotEncoder(sparse_output=False, handle_unknown='ignore')  # 'ignore' handles unknown categories during transform #Sparse reduces the sparsity in the matrix\n",
        "encoder.fit(x_train)\n",
        "\n",
        "x_train = encoder.transform(x_train)\n",
        "x_val = encoder.transform(x_val)\n",
        "x_test = encoder.transform(x_test)\n",
        "\n",
        "print(\"x_train size:\", x_train.shape)\n",
        "print(\"x_val size:\", x_val.shape)\n",
        "print(\"x_test size:\", x_test.shape)"
      ]
    },
    {
      "cell_type": "markdown",
      "metadata": {
        "id": "Qi_OOq9EUvum"
      },
      "source": [
        "###ii.) Scaling Features\n"
      ]
    },
    {
      "cell_type": "markdown",
      "metadata": {
        "id": "G7Z1JDPOoca8"
      },
      "source": [
        "Hyperparameter \"with_mean=False\", implies that the scaled data will be equal to zero. Scales data without centering it enabling the preservation of the original data's mean and distribution characteristics."
      ]
    },
    {
      "cell_type": "code",
      "execution_count": 50,
      "metadata": {
        "id": "4D6x-O0SUrBP"
      },
      "outputs": [],
      "source": [
        "scaler = sklearn.preprocessing.StandardScaler(with_mean=False)\n",
        "scaler.fit(x_train)\n",
        "\n",
        "# Fit and transform the data using the pipeline\n",
        "x_train_scaled = scaler.transform(x_train)\n",
        "x_val_scaled = scaler.transform(x_val)\n",
        "x_test_scaled = scaler.transform(x_test)"
      ]
    },
    {
      "cell_type": "markdown",
      "metadata": {
        "id": "or4u4IN-ntsn"
      },
      "source": [
        "###iii.) Handling Imbalanced Classes"
      ]
    },
    {
      "cell_type": "markdown",
      "metadata": {
        "id": "q-uMLskVlKPS"
      },
      "source": [
        "*   Generates a bar chart of the target column to enable visualization of the count of each unique value.\n",
        "*  Based on the bar chart, there is minimal imbalance between the two class (positive and negative). As the imbalance is minimal, there is no need for oversampling techniques."
      ]
    },
    {
      "cell_type": "code",
      "execution_count": 51,
      "metadata": {
        "colab": {
          "base_uri": "https://localhost:8080/",
          "height": 495
        },
        "id": "4Ait8_sLUPog",
        "outputId": "bf83d157-a11b-4070-cd1d-a44f19e11317"
      },
      "outputs": [
        {
          "output_type": "execute_result",
          "data": {
            "text/plain": [
              "<Axes: >"
            ]
          },
          "metadata": {},
          "execution_count": 51
        },
        {
          "output_type": "display_data",
          "data": {
            "text/plain": [
              "<Figure size 640x480 with 1 Axes>"
            ],
            "image/png": "[encoded data removed]"
          },
          "metadata": {}
        }
      ],
      "source": [
        "df['Outcome Variable'].value_counts().plot(kind = 'bar')"
      ]
    },
    {
      "cell_type": "markdown",
      "metadata": {
        "id": "cBNfOgptUwnt"
      },
      "source": [
        "##Model Selection and Hyperparameter Tuning"
      ]
    },
    {
      "cell_type": "markdown",
      "metadata": {
        "id": "k0gN706npIDu"
      },
      "source": [
        "Grid search and cross-validation was conducted to select the best model and also find the best combination of hyperparameters for different models. It was possible to play around with the hyperparameters during gridsearch and cross-validation. The main insights gathered have been indicated after the evaluation of the best model.\n",
        "\n",
        "The below classification models were run, however, the below code only portrays the code run for three (3) models (namely; SVM, Decision Tree and KNN).\n",
        "\n",
        "*   SVM  - This was the selected predictive model as it was faster than the Random Forest model\n",
        "*   Decision Tree\n",
        "*   Logistic Regression\n",
        "*   Random Forest\n",
        "*   KNN\n",
        "\n",
        "The accuracy for the five models was a follows:\n",
        "\n",
        "*   SVM - Accuracy (0.741) *Good runtime speed*\n",
        "*   Decision Tree - Accuracy (0.733) *Good runtime speed*\n",
        "*   Logistic Regression - Accuracy (0.69)\n",
        "*   Random Forest - Accuracy (0.765) *Long runtime - slow speed*\n",
        "*   KNN - Accuracy(0.713) *Good runtime speed*\n",
        "\n",
        "NB: As the dataset size is small, the runtime for most of the models was fast except random forest.\n"
      ]
    },
    {
      "cell_type": "markdown",
      "metadata": {
        "id": "FPCfCPKXiaYp"
      },
      "source": [
        "####SVM"
      ]
    },
    {
      "cell_type": "markdown",
      "metadata": {
        "id": "s368WPLhrqtP"
      },
      "source": [
        "Model Hyperparameters:\n",
        "\n",
        "* kernel - maps the non linear data into higher dimensions, using different types of kernel functions like linear and rbf.\n",
        "* C - control the regularization strength of the SVM model by choosing from the provided range of values between 0.001 to 100.\n",
        "\n",
        "GridSearchCV is run using the base SVM classifier, the provided grid of parameters, the accuracy metric (selected because the error in predicting all class is equally important in this pipeline), cv=20 is the number of folds (1 fold used as the validation set and the rest of the folds are used as training sets) and n_jobs=-1 (means computation should be distributed across all available CPU cores).\n",
        "\n",
        "Then the model fit code fits the SVM model in the training data (x and y train) while simultaneously conducting grid search and cross-validation.\n"
      ]
    },
    {
      "cell_type": "code",
      "execution_count": 59,
      "metadata": {
        "colab": {
          "base_uri": "https://localhost:8080/"
        },
        "id": "FTaNlaWxU17j",
        "outputId": "c3398f47-0c9e-4945-f649-84771d4aa5fe"
      },
      "outputs": [
        {
          "output_type": "stream",
          "name": "stdout",
          "text": [
            "The accuracy of svm classifier = 0.7413461538461539\n",
            "The best found hyperparameters of svm classifier = {'C': 10, 'kernel': 'rbf'}\n"
          ]
        }
      ],
      "source": [
        "svm_parameters_grid = {\n",
        "    \"kernel\": [\"linear\", \"rbf\"],\n",
        "    \"C\": [0.001, 0.01, 0.1, 1, 10, 100]\n",
        "}\n",
        "svm_model = sklearn.model_selection.GridSearchCV(sklearn.svm.SVC(),\n",
        "                                               svm_parameters_grid, scoring=\"accuracy\", cv=20, n_jobs=-1)\n",
        "svm_model.fit(x_train, y_train)\n",
        "print(f\"The accuracy of svm classifier = {svm_model.best_score_}\")\n",
        "print(f\"The best found hyperparameters of svm classifier = {svm_model.best_params_}\")"
      ]
    },
    {
      "cell_type": "markdown",
      "metadata": {
        "id": "liqHCAxdijOT"
      },
      "source": [
        "####Decision Tree"
      ]
    },
    {
      "cell_type": "markdown",
      "metadata": {
        "id": "0AojTL-U1jsE"
      },
      "source": [
        "Model Hyperparameters:\n",
        "\n",
        "* criterion - indicates the functions that can be used to measure the quality of the split in this case the entropy, gini and log-loss function are being used.\n",
        "* max_depth - controls the maximum depth of the decision trees in this pipeline a range from 1 to 40 is used with a step size of 3.\n",
        "* min_sample_split - determines the minimum number of samples needed to split an internal code with a range from 2 to 40 with step size of 3.\n",
        "\n",
        "GridSearchCV is run using the base decision tree classifier, the provided grid of parameters, the accuracy metric (selected because the error in predicting all class is equally important in this pipeline), cv=20 is the number of folds (1 fold used as the validation set and the rest of the folds are used as training sets) and the n_jobs=-1 (means computation should be distributed across all available CPU cores).\n",
        "\n",
        "Then the model fit code fits the decision tree model in the training data (x and y train) while simultaneously conducting grid search and cross-validation.\n"
      ]
    },
    {
      "cell_type": "code",
      "execution_count": 54,
      "metadata": {
        "colab": {
          "base_uri": "https://localhost:8080/"
        },
        "id": "xD4rv5__in54",
        "outputId": "91175372-f689-4c94-9209-39c94bf22441"
      },
      "outputs": [
        {
          "output_type": "stream",
          "name": "stdout",
          "text": [
            "The accuracy of best decision tree classifier = 0.7330128205128206\n",
            "The best found hyperparameters of decision tree classifier = {'criterion': 'entropy', 'max_depth': 22, 'min_samples_split': 2}\n"
          ]
        }
      ],
      "source": [
        "dt_parameters_grid = {\n",
        "    \"criterion\": [\"gini\", \"entropy\"],\n",
        "    \"max_depth\": range(1, 41, 3),\n",
        "    \"min_samples_split\":(2, 41, 3)\n",
        "}\n",
        "dt_model = sklearn.model_selection.GridSearchCV(sklearn.tree.DecisionTreeClassifier(),\n",
        "                                               dt_parameters_grid, scoring=\"accuracy\", cv=20, n_jobs=-1)\n",
        "dt_model.fit(x_train, y_train)\n",
        "pred = dt_model.predict(x_val)\n",
        "print(f\"The accuracy of best decision tree classifier = {dt_model.best_score_}\")\n",
        "print(f\"The best found hyperparameters of decision tree classifier = {dt_model.best_params_}\")"
      ]
    },
    {
      "cell_type": "markdown",
      "metadata": {
        "id": "sEC1EGvYiuKM"
      },
      "source": [
        "####KNN"
      ]
    },
    {
      "cell_type": "code",
      "execution_count": 56,
      "metadata": {
        "colab": {
          "base_uri": "https://localhost:8080/"
        },
        "id": "PpWY4ypJitH-",
        "outputId": "13b1afa0-2bf7-4825-9641-724af0208d92"
      },
      "outputs": [
        {
          "output_type": "stream",
          "name": "stdout",
          "text": [
            "The accuracy of best decision tree classifier = 0.7137820512820514\n",
            "The best found hyperparameters of decision tree classifier = {'metric': 'minkowski', 'n_neighbors': 1}\n"
          ]
        }
      ],
      "source": [
        "knn_parameters_grid = {\n",
        "    \"n_neighbors\": [1, 5, 10, 15, 20, 30],\n",
        "     \"metric\": [\"minkowski\", \"euclidean\", \"manhattan\"]\n",
        "}\n",
        "knn_model = sklearn.model_selection.GridSearchCV(sklearn.neighbors.KNeighborsClassifier(),\n",
        "                                               knn_parameters_grid, scoring=\"accuracy\", cv=20, n_jobs=-1)\n",
        "knn_model.fit(x_train, y_train)\n",
        "print(f\"The accuracy of best decision tree classifier = {knn_model.best_score_}\")\n",
        "print(f\"The best found hyperparameters of decision tree classifier = {knn_model.best_params_}\")"
      ]
    },
    {
      "cell_type": "markdown",
      "metadata": {
        "id": "ljbbHdrJnAci"
      },
      "source": [
        "####Random Forest"
      ]
    },
    {
      "cell_type": "code",
      "execution_count": 57,
      "metadata": {
        "colab": {
          "base_uri": "https://localhost:8080/"
        },
        "id": "7M_INJ6HnDdB",
        "outputId": "97d611df-6c72-430e-89e7-699d7c9800d6"
      },
      "outputs": [
        {
          "output_type": "stream",
          "name": "stdout",
          "text": [
            "The accuracy of best rf classifier = 0.7650641025641026\n",
            "The best found hyperparameters for the rf classifier = {'criterion': 'gini', 'max_depth': 22, 'n_estimators': 100}\n"
          ]
        }
      ],
      "source": [
        "rf_parameters_grid = {\n",
        "    \"n_estimators\": [100, 200], #The number of trees in the forest\n",
        "    \"criterion\" : [\"gini\", \"entropy\"], # It measures the quality of the split\n",
        "    \"max_depth\": range(1, 30, 3) #The maximum depth of the trees\n",
        "}\n",
        "rf_model = sklearn.model_selection.GridSearchCV(sklearn.ensemble.RandomForestClassifier(),\n",
        "                                               rf_parameters_grid, scoring=\"accuracy\", cv=20, n_jobs=-1)\n",
        "rf_model.fit(x_train, y_train)\n",
        "print(f\"The accuracy of best rf classifier = {rf_model.best_score_}\")\n",
        "print(f\"The best found hyperparameters for the rf classifier = {rf_model.best_params_}\")"
      ]
    },
    {
      "cell_type": "markdown",
      "metadata": {
        "id": "VimtbWeVoAF2"
      },
      "source": [
        "##11. Testing the Best Model"
      ]
    },
    {
      "cell_type": "code",
      "execution_count": 61,
      "metadata": {
        "id": "jJ1-_KA0rau_",
        "colab": {
          "base_uri": "https://localhost:8080/"
        },
        "outputId": "1f4b5224-e015-4f89-91ee-f42c2e4150e3"
      },
      "outputs": [
        {
          "output_type": "stream",
          "name": "stdout",
          "text": [
            "Accuracy = 0.7924528301886793\n",
            "Confusion Matrix:\n",
            " [[18  4]\n",
            " [ 7 24]]\n"
          ]
        }
      ],
      "source": [
        "y_predicted = svm_model.predict(x_test)\n",
        "accuracy = sklearn.metrics.accuracy_score(y_test, y_predicted)\n",
        "cm = sklearn.metrics.confusion_matrix(y_test, y_predicted)\n",
        "precision, recall, f1, support = sklearn.metrics.precision_recall_fscore_support(y_test, y_predicted)\n",
        "\n",
        "print(\"Accuracy =\", accuracy)\n",
        "print(\"Confusion Matrix:\\n\", cm)"
      ]
    },
    {
      "cell_type": "markdown",
      "metadata": {
        "id": "xfaKEmSftJs-"
      },
      "source": [
        "##Insights gathered from Pipeline"
      ]
    },
    {
      "cell_type": "markdown",
      "metadata": {
        "id": "qvo60HS4txFD"
      },
      "source": [
        "*  Since the dataset was small, a higher cross-validation value (cv) was used to there was efficient use of the limited data by repeatedly splitting into smaller training and validation datasets.\n",
        "*  It was observed that when cv was equal to 5, all the models performed lower than when the model was increased to 20.\n",
        "*  However, as increasing more folds reduces bias and increases the variance, there is need to ensure that overfitting is avoided in the pipeline. One way would be potentially increaing the dataset if possible to avoid overfitting.\n",
        "*  The highest accuracy level despite using all the known classification algorithms was 0.80, this could be due to the small size of the dataset used in this pipeline.\n",
        "*  There is need to train another model on a larger dataset if this machine learning algorithm is to be used large scale.\n",
        "* As there were no missing values (which is a positive of course), there was not much data exploration done. However, next time I would like to use a larger dataset with missing values to explore different means of handling the missing variables.\n",
        "*  The trained machine learning algorithm (larger dataset) could be potentially used to predict disease diagnosis and monitoring of symptoms for each patient.\n"
      ]
    },
    {
      "cell_type": "markdown",
      "metadata": {
        "id": "HoOduzCtobXt"
      },
      "source": [
        "##12. References"
      ]
    },
    {
      "cell_type": "markdown",
      "metadata": {
        "id": "U7w5_CZxrcHi"
      },
      "source": [
        "Baker, C.(2023). *NHS Key Statistics: England, July 2023*. House of Commons Library. https://researchbriefings.files.parliament.uk/documents/CBP-7281/CBP-7281.pdf. Accessed on the 13th August 2023"
      ]
    }
  ],
  "metadata": {
    "colab": {
      "provenance": []
    },
    "kernelspec": {
      "display_name": "Python 3",
      "name": "python3"
    },
    "language_info": {
      "name": "python"
    }
  },
  "nbformat": 4,
  "nbformat_minor": 0
}